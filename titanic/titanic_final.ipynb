{
 "cells": [
  {
   "cell_type": "code",
   "execution_count": 1,
   "id": "24f4c053",
   "metadata": {
    "_cell_guid": "b1076dfc-b9ad-4769-8c92-a6c4dae69d19",
    "_uuid": "8f2839f25d086af736a60e9eeb907d3b93b6e0e5",
    "execution": {
     "iopub.execute_input": "2025-01-09T17:14:14.300726Z",
     "iopub.status.busy": "2025-01-09T17:14:14.300340Z",
     "iopub.status.idle": "2025-01-09T17:14:14.707485Z",
     "shell.execute_reply": "2025-01-09T17:14:14.705731Z"
    },
    "papermill": {
     "duration": 0.424118,
     "end_time": "2025-01-09T17:14:14.710239",
     "exception": false,
     "start_time": "2025-01-09T17:14:14.286121",
     "status": "completed"
    },
    "tags": []
   },
   "outputs": [
    {
     "name": "stdout",
     "output_type": "stream",
     "text": [
      "/kaggle/input/titanic/train.csv\n",
      "/kaggle/input/titanic/test.csv\n",
      "/kaggle/input/titanic/gender_submission.csv\n"
     ]
    }
   ],
   "source": [
    "# This Python 3 environment comes with many helpful analytics libraries installed\n",
    "# It is defined by the kaggle/python Docker image: https://github.com/kaggle/docker-python\n",
    "# For example, here's several helpful packages to load\n",
    "\n",
    "import numpy as np # linear algebra\n",
    "import pandas as pd # data processing, CSV file I/O (e.g. pd.read_csv)\n",
    "\n",
    "# Input data files are available in the read-only \"../input/\" directory\n",
    "# For example, running this (by clicking run or pressing Shift+Enter) will list all files under the input directory\n",
    "\n",
    "import os\n",
    "for dirname, _, filenames in os.walk('/kaggle/input'):\n",
    "    for filename in filenames:\n",
    "        print(os.path.join(dirname, filename))\n",
    "\n",
    "# You can write up to 20GB to the current directory (/kaggle/working/) that gets preserved as output when you create a version using \"Save & Run All\" \n",
    "# You can also write temporary files to /kaggle/temp/, but they won't be saved outside of the current session"
   ]
  },
  {
   "cell_type": "code",
   "execution_count": 2,
   "id": "e01b0aea",
   "metadata": {
    "execution": {
     "iopub.execute_input": "2025-01-09T17:14:14.739994Z",
     "iopub.status.busy": "2025-01-09T17:14:14.739319Z",
     "iopub.status.idle": "2025-01-09T17:14:14.769071Z",
     "shell.execute_reply": "2025-01-09T17:14:14.767824Z"
    },
    "papermill": {
     "duration": 0.044676,
     "end_time": "2025-01-09T17:14:14.771194",
     "exception": false,
     "start_time": "2025-01-09T17:14:14.726518",
     "status": "completed"
    },
    "tags": []
   },
   "outputs": [],
   "source": [
    "train_df = pd.read_csv(\"/kaggle/input/titanic/train.csv\")\n",
    "test_df = pd.read_csv(\"/kaggle/input/titanic/test.csv\")"
   ]
  },
  {
   "cell_type": "code",
   "execution_count": 3,
   "id": "3c6d7d75",
   "metadata": {
    "execution": {
     "iopub.execute_input": "2025-01-09T17:14:14.794927Z",
     "iopub.status.busy": "2025-01-09T17:14:14.794445Z",
     "iopub.status.idle": "2025-01-09T17:14:14.827375Z",
     "shell.execute_reply": "2025-01-09T17:14:14.825937Z"
    },
    "papermill": {
     "duration": 0.046824,
     "end_time": "2025-01-09T17:14:14.829237",
     "exception": false,
     "start_time": "2025-01-09T17:14:14.782413",
     "status": "completed"
    },
    "tags": []
   },
   "outputs": [
    {
     "data": {
      "text/html": [
       "<div>\n",
       "<style scoped>\n",
       "    .dataframe tbody tr th:only-of-type {\n",
       "        vertical-align: middle;\n",
       "    }\n",
       "\n",
       "    .dataframe tbody tr th {\n",
       "        vertical-align: top;\n",
       "    }\n",
       "\n",
       "    .dataframe thead th {\n",
       "        text-align: right;\n",
       "    }\n",
       "</style>\n",
       "<table border=\"1\" class=\"dataframe\">\n",
       "  <thead>\n",
       "    <tr style=\"text-align: right;\">\n",
       "      <th></th>\n",
       "      <th>PassengerId</th>\n",
       "      <th>Survived</th>\n",
       "      <th>Pclass</th>\n",
       "      <th>Name</th>\n",
       "      <th>Sex</th>\n",
       "      <th>Age</th>\n",
       "      <th>SibSp</th>\n",
       "      <th>Parch</th>\n",
       "      <th>Ticket</th>\n",
       "      <th>Fare</th>\n",
       "      <th>Cabin</th>\n",
       "      <th>Embarked</th>\n",
       "    </tr>\n",
       "  </thead>\n",
       "  <tbody>\n",
       "    <tr>\n",
       "      <th>0</th>\n",
       "      <td>1</td>\n",
       "      <td>0</td>\n",
       "      <td>3</td>\n",
       "      <td>Braund, Mr. Owen Harris</td>\n",
       "      <td>male</td>\n",
       "      <td>22.0</td>\n",
       "      <td>1</td>\n",
       "      <td>0</td>\n",
       "      <td>A/5 21171</td>\n",
       "      <td>7.2500</td>\n",
       "      <td>NaN</td>\n",
       "      <td>S</td>\n",
       "    </tr>\n",
       "    <tr>\n",
       "      <th>1</th>\n",
       "      <td>2</td>\n",
       "      <td>1</td>\n",
       "      <td>1</td>\n",
       "      <td>Cumings, Mrs. John Bradley (Florence Briggs Th...</td>\n",
       "      <td>female</td>\n",
       "      <td>38.0</td>\n",
       "      <td>1</td>\n",
       "      <td>0</td>\n",
       "      <td>PC 17599</td>\n",
       "      <td>71.2833</td>\n",
       "      <td>C85</td>\n",
       "      <td>C</td>\n",
       "    </tr>\n",
       "    <tr>\n",
       "      <th>2</th>\n",
       "      <td>3</td>\n",
       "      <td>1</td>\n",
       "      <td>3</td>\n",
       "      <td>Heikkinen, Miss. Laina</td>\n",
       "      <td>female</td>\n",
       "      <td>26.0</td>\n",
       "      <td>0</td>\n",
       "      <td>0</td>\n",
       "      <td>STON/O2. 3101282</td>\n",
       "      <td>7.9250</td>\n",
       "      <td>NaN</td>\n",
       "      <td>S</td>\n",
       "    </tr>\n",
       "    <tr>\n",
       "      <th>3</th>\n",
       "      <td>4</td>\n",
       "      <td>1</td>\n",
       "      <td>1</td>\n",
       "      <td>Futrelle, Mrs. Jacques Heath (Lily May Peel)</td>\n",
       "      <td>female</td>\n",
       "      <td>35.0</td>\n",
       "      <td>1</td>\n",
       "      <td>0</td>\n",
       "      <td>113803</td>\n",
       "      <td>53.1000</td>\n",
       "      <td>C123</td>\n",
       "      <td>S</td>\n",
       "    </tr>\n",
       "    <tr>\n",
       "      <th>4</th>\n",
       "      <td>5</td>\n",
       "      <td>0</td>\n",
       "      <td>3</td>\n",
       "      <td>Allen, Mr. William Henry</td>\n",
       "      <td>male</td>\n",
       "      <td>35.0</td>\n",
       "      <td>0</td>\n",
       "      <td>0</td>\n",
       "      <td>373450</td>\n",
       "      <td>8.0500</td>\n",
       "      <td>NaN</td>\n",
       "      <td>S</td>\n",
       "    </tr>\n",
       "    <tr>\n",
       "      <th>...</th>\n",
       "      <td>...</td>\n",
       "      <td>...</td>\n",
       "      <td>...</td>\n",
       "      <td>...</td>\n",
       "      <td>...</td>\n",
       "      <td>...</td>\n",
       "      <td>...</td>\n",
       "      <td>...</td>\n",
       "      <td>...</td>\n",
       "      <td>...</td>\n",
       "      <td>...</td>\n",
       "      <td>...</td>\n",
       "    </tr>\n",
       "    <tr>\n",
       "      <th>886</th>\n",
       "      <td>887</td>\n",
       "      <td>0</td>\n",
       "      <td>2</td>\n",
       "      <td>Montvila, Rev. Juozas</td>\n",
       "      <td>male</td>\n",
       "      <td>27.0</td>\n",
       "      <td>0</td>\n",
       "      <td>0</td>\n",
       "      <td>211536</td>\n",
       "      <td>13.0000</td>\n",
       "      <td>NaN</td>\n",
       "      <td>S</td>\n",
       "    </tr>\n",
       "    <tr>\n",
       "      <th>887</th>\n",
       "      <td>888</td>\n",
       "      <td>1</td>\n",
       "      <td>1</td>\n",
       "      <td>Graham, Miss. Margaret Edith</td>\n",
       "      <td>female</td>\n",
       "      <td>19.0</td>\n",
       "      <td>0</td>\n",
       "      <td>0</td>\n",
       "      <td>112053</td>\n",
       "      <td>30.0000</td>\n",
       "      <td>B42</td>\n",
       "      <td>S</td>\n",
       "    </tr>\n",
       "    <tr>\n",
       "      <th>888</th>\n",
       "      <td>889</td>\n",
       "      <td>0</td>\n",
       "      <td>3</td>\n",
       "      <td>Johnston, Miss. Catherine Helen \"Carrie\"</td>\n",
       "      <td>female</td>\n",
       "      <td>NaN</td>\n",
       "      <td>1</td>\n",
       "      <td>2</td>\n",
       "      <td>W./C. 6607</td>\n",
       "      <td>23.4500</td>\n",
       "      <td>NaN</td>\n",
       "      <td>S</td>\n",
       "    </tr>\n",
       "    <tr>\n",
       "      <th>889</th>\n",
       "      <td>890</td>\n",
       "      <td>1</td>\n",
       "      <td>1</td>\n",
       "      <td>Behr, Mr. Karl Howell</td>\n",
       "      <td>male</td>\n",
       "      <td>26.0</td>\n",
       "      <td>0</td>\n",
       "      <td>0</td>\n",
       "      <td>111369</td>\n",
       "      <td>30.0000</td>\n",
       "      <td>C148</td>\n",
       "      <td>C</td>\n",
       "    </tr>\n",
       "    <tr>\n",
       "      <th>890</th>\n",
       "      <td>891</td>\n",
       "      <td>0</td>\n",
       "      <td>3</td>\n",
       "      <td>Dooley, Mr. Patrick</td>\n",
       "      <td>male</td>\n",
       "      <td>32.0</td>\n",
       "      <td>0</td>\n",
       "      <td>0</td>\n",
       "      <td>370376</td>\n",
       "      <td>7.7500</td>\n",
       "      <td>NaN</td>\n",
       "      <td>Q</td>\n",
       "    </tr>\n",
       "  </tbody>\n",
       "</table>\n",
       "<p>891 rows × 12 columns</p>\n",
       "</div>"
      ],
      "text/plain": [
       "     PassengerId  Survived  Pclass  \\\n",
       "0              1         0       3   \n",
       "1              2         1       1   \n",
       "2              3         1       3   \n",
       "3              4         1       1   \n",
       "4              5         0       3   \n",
       "..           ...       ...     ...   \n",
       "886          887         0       2   \n",
       "887          888         1       1   \n",
       "888          889         0       3   \n",
       "889          890         1       1   \n",
       "890          891         0       3   \n",
       "\n",
       "                                                  Name     Sex   Age  SibSp  \\\n",
       "0                              Braund, Mr. Owen Harris    male  22.0      1   \n",
       "1    Cumings, Mrs. John Bradley (Florence Briggs Th...  female  38.0      1   \n",
       "2                               Heikkinen, Miss. Laina  female  26.0      0   \n",
       "3         Futrelle, Mrs. Jacques Heath (Lily May Peel)  female  35.0      1   \n",
       "4                             Allen, Mr. William Henry    male  35.0      0   \n",
       "..                                                 ...     ...   ...    ...   \n",
       "886                              Montvila, Rev. Juozas    male  27.0      0   \n",
       "887                       Graham, Miss. Margaret Edith  female  19.0      0   \n",
       "888           Johnston, Miss. Catherine Helen \"Carrie\"  female   NaN      1   \n",
       "889                              Behr, Mr. Karl Howell    male  26.0      0   \n",
       "890                                Dooley, Mr. Patrick    male  32.0      0   \n",
       "\n",
       "     Parch            Ticket     Fare Cabin Embarked  \n",
       "0        0         A/5 21171   7.2500   NaN        S  \n",
       "1        0          PC 17599  71.2833   C85        C  \n",
       "2        0  STON/O2. 3101282   7.9250   NaN        S  \n",
       "3        0            113803  53.1000  C123        S  \n",
       "4        0            373450   8.0500   NaN        S  \n",
       "..     ...               ...      ...   ...      ...  \n",
       "886      0            211536  13.0000   NaN        S  \n",
       "887      0            112053  30.0000   B42        S  \n",
       "888      2        W./C. 6607  23.4500   NaN        S  \n",
       "889      0            111369  30.0000  C148        C  \n",
       "890      0            370376   7.7500   NaN        Q  \n",
       "\n",
       "[891 rows x 12 columns]"
      ]
     },
     "execution_count": 3,
     "metadata": {},
     "output_type": "execute_result"
    }
   ],
   "source": [
    "train_df"
   ]
  },
  {
   "cell_type": "code",
   "execution_count": 4,
   "id": "574b1963",
   "metadata": {
    "execution": {
     "iopub.execute_input": "2025-01-09T17:14:14.853492Z",
     "iopub.status.busy": "2025-01-09T17:14:14.853042Z",
     "iopub.status.idle": "2025-01-09T17:14:14.864465Z",
     "shell.execute_reply": "2025-01-09T17:14:14.863008Z"
    },
    "papermill": {
     "duration": 0.026085,
     "end_time": "2025-01-09T17:14:14.866429",
     "exception": false,
     "start_time": "2025-01-09T17:14:14.840344",
     "status": "completed"
    },
    "tags": []
   },
   "outputs": [
    {
     "data": {
      "text/plain": [
       "PassengerId    891\n",
       "Survived       891\n",
       "Pclass         891\n",
       "Name           891\n",
       "Sex            891\n",
       "Age            714\n",
       "SibSp          891\n",
       "Parch          891\n",
       "Ticket         891\n",
       "Fare           891\n",
       "Cabin          204\n",
       "Embarked       889\n",
       "dtype: int64"
      ]
     },
     "execution_count": 4,
     "metadata": {},
     "output_type": "execute_result"
    }
   ],
   "source": [
    "train_df.count()"
   ]
  },
  {
   "cell_type": "code",
   "execution_count": 5,
   "id": "aa0a9cf6",
   "metadata": {
    "execution": {
     "iopub.execute_input": "2025-01-09T17:14:14.890974Z",
     "iopub.status.busy": "2025-01-09T17:14:14.890470Z",
     "iopub.status.idle": "2025-01-09T17:14:14.908197Z",
     "shell.execute_reply": "2025-01-09T17:14:14.906973Z"
    },
    "papermill": {
     "duration": 0.032197,
     "end_time": "2025-01-09T17:14:14.910220",
     "exception": false,
     "start_time": "2025-01-09T17:14:14.878023",
     "status": "completed"
    },
    "tags": []
   },
   "outputs": [],
   "source": [
    "train_df = train_df.drop(\"Cabin\", axis=1)\n",
    "train_df.drop(\"Name\", axis=1, inplace=True)\n",
    "train_df.drop(\"Ticket\", axis=1, inplace=True)\n",
    "train_df.set_index(\"PassengerId\", inplace=True)"
   ]
  },
  {
   "cell_type": "code",
   "execution_count": 6,
   "id": "0b3039c8",
   "metadata": {
    "execution": {
     "iopub.execute_input": "2025-01-09T17:14:14.935246Z",
     "iopub.status.busy": "2025-01-09T17:14:14.934579Z",
     "iopub.status.idle": "2025-01-09T17:14:14.952024Z",
     "shell.execute_reply": "2025-01-09T17:14:14.950601Z"
    },
    "papermill": {
     "duration": 0.032024,
     "end_time": "2025-01-09T17:14:14.953945",
     "exception": false,
     "start_time": "2025-01-09T17:14:14.921921",
     "status": "completed"
    },
    "tags": []
   },
   "outputs": [
    {
     "data": {
      "text/html": [
       "<div>\n",
       "<style scoped>\n",
       "    .dataframe tbody tr th:only-of-type {\n",
       "        vertical-align: middle;\n",
       "    }\n",
       "\n",
       "    .dataframe tbody tr th {\n",
       "        vertical-align: top;\n",
       "    }\n",
       "\n",
       "    .dataframe thead th {\n",
       "        text-align: right;\n",
       "    }\n",
       "</style>\n",
       "<table border=\"1\" class=\"dataframe\">\n",
       "  <thead>\n",
       "    <tr style=\"text-align: right;\">\n",
       "      <th></th>\n",
       "      <th>Survived</th>\n",
       "      <th>Pclass</th>\n",
       "      <th>Sex</th>\n",
       "      <th>Age</th>\n",
       "      <th>SibSp</th>\n",
       "      <th>Parch</th>\n",
       "      <th>Fare</th>\n",
       "      <th>Embarked</th>\n",
       "    </tr>\n",
       "    <tr>\n",
       "      <th>PassengerId</th>\n",
       "      <th></th>\n",
       "      <th></th>\n",
       "      <th></th>\n",
       "      <th></th>\n",
       "      <th></th>\n",
       "      <th></th>\n",
       "      <th></th>\n",
       "      <th></th>\n",
       "    </tr>\n",
       "  </thead>\n",
       "  <tbody>\n",
       "    <tr>\n",
       "      <th>1</th>\n",
       "      <td>0</td>\n",
       "      <td>3</td>\n",
       "      <td>male</td>\n",
       "      <td>22.0</td>\n",
       "      <td>1</td>\n",
       "      <td>0</td>\n",
       "      <td>7.2500</td>\n",
       "      <td>S</td>\n",
       "    </tr>\n",
       "    <tr>\n",
       "      <th>2</th>\n",
       "      <td>1</td>\n",
       "      <td>1</td>\n",
       "      <td>female</td>\n",
       "      <td>38.0</td>\n",
       "      <td>1</td>\n",
       "      <td>0</td>\n",
       "      <td>71.2833</td>\n",
       "      <td>C</td>\n",
       "    </tr>\n",
       "    <tr>\n",
       "      <th>3</th>\n",
       "      <td>1</td>\n",
       "      <td>3</td>\n",
       "      <td>female</td>\n",
       "      <td>26.0</td>\n",
       "      <td>0</td>\n",
       "      <td>0</td>\n",
       "      <td>7.9250</td>\n",
       "      <td>S</td>\n",
       "    </tr>\n",
       "    <tr>\n",
       "      <th>4</th>\n",
       "      <td>1</td>\n",
       "      <td>1</td>\n",
       "      <td>female</td>\n",
       "      <td>35.0</td>\n",
       "      <td>1</td>\n",
       "      <td>0</td>\n",
       "      <td>53.1000</td>\n",
       "      <td>S</td>\n",
       "    </tr>\n",
       "    <tr>\n",
       "      <th>5</th>\n",
       "      <td>0</td>\n",
       "      <td>3</td>\n",
       "      <td>male</td>\n",
       "      <td>35.0</td>\n",
       "      <td>0</td>\n",
       "      <td>0</td>\n",
       "      <td>8.0500</td>\n",
       "      <td>S</td>\n",
       "    </tr>\n",
       "    <tr>\n",
       "      <th>...</th>\n",
       "      <td>...</td>\n",
       "      <td>...</td>\n",
       "      <td>...</td>\n",
       "      <td>...</td>\n",
       "      <td>...</td>\n",
       "      <td>...</td>\n",
       "      <td>...</td>\n",
       "      <td>...</td>\n",
       "    </tr>\n",
       "    <tr>\n",
       "      <th>887</th>\n",
       "      <td>0</td>\n",
       "      <td>2</td>\n",
       "      <td>male</td>\n",
       "      <td>27.0</td>\n",
       "      <td>0</td>\n",
       "      <td>0</td>\n",
       "      <td>13.0000</td>\n",
       "      <td>S</td>\n",
       "    </tr>\n",
       "    <tr>\n",
       "      <th>888</th>\n",
       "      <td>1</td>\n",
       "      <td>1</td>\n",
       "      <td>female</td>\n",
       "      <td>19.0</td>\n",
       "      <td>0</td>\n",
       "      <td>0</td>\n",
       "      <td>30.0000</td>\n",
       "      <td>S</td>\n",
       "    </tr>\n",
       "    <tr>\n",
       "      <th>889</th>\n",
       "      <td>0</td>\n",
       "      <td>3</td>\n",
       "      <td>female</td>\n",
       "      <td>NaN</td>\n",
       "      <td>1</td>\n",
       "      <td>2</td>\n",
       "      <td>23.4500</td>\n",
       "      <td>S</td>\n",
       "    </tr>\n",
       "    <tr>\n",
       "      <th>890</th>\n",
       "      <td>1</td>\n",
       "      <td>1</td>\n",
       "      <td>male</td>\n",
       "      <td>26.0</td>\n",
       "      <td>0</td>\n",
       "      <td>0</td>\n",
       "      <td>30.0000</td>\n",
       "      <td>C</td>\n",
       "    </tr>\n",
       "    <tr>\n",
       "      <th>891</th>\n",
       "      <td>0</td>\n",
       "      <td>3</td>\n",
       "      <td>male</td>\n",
       "      <td>32.0</td>\n",
       "      <td>0</td>\n",
       "      <td>0</td>\n",
       "      <td>7.7500</td>\n",
       "      <td>Q</td>\n",
       "    </tr>\n",
       "  </tbody>\n",
       "</table>\n",
       "<p>891 rows × 8 columns</p>\n",
       "</div>"
      ],
      "text/plain": [
       "             Survived  Pclass     Sex   Age  SibSp  Parch     Fare Embarked\n",
       "PassengerId                                                                \n",
       "1                   0       3    male  22.0      1      0   7.2500        S\n",
       "2                   1       1  female  38.0      1      0  71.2833        C\n",
       "3                   1       3  female  26.0      0      0   7.9250        S\n",
       "4                   1       1  female  35.0      1      0  53.1000        S\n",
       "5                   0       3    male  35.0      0      0   8.0500        S\n",
       "...               ...     ...     ...   ...    ...    ...      ...      ...\n",
       "887                 0       2    male  27.0      0      0  13.0000        S\n",
       "888                 1       1  female  19.0      0      0  30.0000        S\n",
       "889                 0       3  female   NaN      1      2  23.4500        S\n",
       "890                 1       1    male  26.0      0      0  30.0000        C\n",
       "891                 0       3    male  32.0      0      0   7.7500        Q\n",
       "\n",
       "[891 rows x 8 columns]"
      ]
     },
     "execution_count": 6,
     "metadata": {},
     "output_type": "execute_result"
    }
   ],
   "source": [
    "train_df"
   ]
  },
  {
   "cell_type": "code",
   "execution_count": 7,
   "id": "bc86e374",
   "metadata": {
    "execution": {
     "iopub.execute_input": "2025-01-09T17:14:14.979746Z",
     "iopub.status.busy": "2025-01-09T17:14:14.979232Z",
     "iopub.status.idle": "2025-01-09T17:14:14.990129Z",
     "shell.execute_reply": "2025-01-09T17:14:14.988714Z"
    },
    "papermill": {
     "duration": 0.025974,
     "end_time": "2025-01-09T17:14:14.992134",
     "exception": false,
     "start_time": "2025-01-09T17:14:14.966160",
     "status": "completed"
    },
    "tags": []
   },
   "outputs": [
    {
     "data": {
      "text/plain": [
       "Survived    891\n",
       "Pclass      891\n",
       "Sex         891\n",
       "Age         714\n",
       "SibSp       891\n",
       "Parch       891\n",
       "Fare        891\n",
       "Embarked    889\n",
       "dtype: int64"
      ]
     },
     "execution_count": 7,
     "metadata": {},
     "output_type": "execute_result"
    }
   ],
   "source": [
    "train_df.count()"
   ]
  },
  {
   "cell_type": "code",
   "execution_count": 8,
   "id": "48d7df29",
   "metadata": {
    "execution": {
     "iopub.execute_input": "2025-01-09T17:14:15.019175Z",
     "iopub.status.busy": "2025-01-09T17:14:15.018695Z",
     "iopub.status.idle": "2025-01-09T17:14:15.027820Z",
     "shell.execute_reply": "2025-01-09T17:14:15.026510Z"
    },
    "papermill": {
     "duration": 0.024133,
     "end_time": "2025-01-09T17:14:15.029609",
     "exception": false,
     "start_time": "2025-01-09T17:14:15.005476",
     "status": "completed"
    },
    "tags": []
   },
   "outputs": [],
   "source": [
    "train_df['Age'].fillna(train_df['Age'].median(), inplace=True)"
   ]
  },
  {
   "cell_type": "code",
   "execution_count": 9,
   "id": "344ee1af",
   "metadata": {
    "execution": {
     "iopub.execute_input": "2025-01-09T17:14:15.054872Z",
     "iopub.status.busy": "2025-01-09T17:14:15.054356Z",
     "iopub.status.idle": "2025-01-09T17:14:15.065721Z",
     "shell.execute_reply": "2025-01-09T17:14:15.064397Z"
    },
    "papermill": {
     "duration": 0.026217,
     "end_time": "2025-01-09T17:14:15.067692",
     "exception": false,
     "start_time": "2025-01-09T17:14:15.041475",
     "status": "completed"
    },
    "tags": []
   },
   "outputs": [],
   "source": [
    "train_df[\"Embarked\"].fillna(train_df[\"Embarked\"].mode()[0], inplace=True)"
   ]
  },
  {
   "cell_type": "code",
   "execution_count": 10,
   "id": "b469ca56",
   "metadata": {
    "execution": {
     "iopub.execute_input": "2025-01-09T17:14:15.093340Z",
     "iopub.status.busy": "2025-01-09T17:14:15.092843Z",
     "iopub.status.idle": "2025-01-09T17:14:15.102636Z",
     "shell.execute_reply": "2025-01-09T17:14:15.101469Z"
    },
    "papermill": {
     "duration": 0.024697,
     "end_time": "2025-01-09T17:14:15.104295",
     "exception": false,
     "start_time": "2025-01-09T17:14:15.079598",
     "status": "completed"
    },
    "tags": []
   },
   "outputs": [
    {
     "data": {
      "text/plain": [
       "Survived    891\n",
       "Pclass      891\n",
       "Sex         891\n",
       "Age         891\n",
       "SibSp       891\n",
       "Parch       891\n",
       "Fare        891\n",
       "Embarked    891\n",
       "dtype: int64"
      ]
     },
     "execution_count": 10,
     "metadata": {},
     "output_type": "execute_result"
    }
   ],
   "source": [
    "train_df.count()"
   ]
  },
  {
   "cell_type": "markdown",
   "id": "af3edbd2",
   "metadata": {
    "papermill": {
     "duration": 0.011639,
     "end_time": "2025-01-09T17:14:15.127831",
     "exception": false,
     "start_time": "2025-01-09T17:14:15.116192",
     "status": "completed"
    },
    "tags": []
   },
   "source": [
    "# Visualisation"
   ]
  },
  {
   "cell_type": "code",
   "execution_count": 11,
   "id": "09ffdb8b",
   "metadata": {
    "execution": {
     "iopub.execute_input": "2025-01-09T17:14:15.155051Z",
     "iopub.status.busy": "2025-01-09T17:14:15.154603Z",
     "iopub.status.idle": "2025-01-09T17:14:16.772367Z",
     "shell.execute_reply": "2025-01-09T17:14:16.770639Z"
    },
    "papermill": {
     "duration": 1.632832,
     "end_time": "2025-01-09T17:14:16.774574",
     "exception": false,
     "start_time": "2025-01-09T17:14:15.141742",
     "status": "completed"
    },
    "tags": []
   },
   "outputs": [
    {
     "data": {
      "text/html": [
       "<div>\n",
       "<style scoped>\n",
       "    .dataframe tbody tr th:only-of-type {\n",
       "        vertical-align: middle;\n",
       "    }\n",
       "\n",
       "    .dataframe tbody tr th {\n",
       "        vertical-align: top;\n",
       "    }\n",
       "\n",
       "    .dataframe thead th {\n",
       "        text-align: right;\n",
       "    }\n",
       "</style>\n",
       "<table border=\"1\" class=\"dataframe\">\n",
       "  <thead>\n",
       "    <tr style=\"text-align: right;\">\n",
       "      <th></th>\n",
       "      <th>Survived</th>\n",
       "      <th>Pclass</th>\n",
       "      <th>Sex</th>\n",
       "      <th>Age</th>\n",
       "      <th>SibSp</th>\n",
       "      <th>Parch</th>\n",
       "      <th>Fare</th>\n",
       "      <th>Embarked</th>\n",
       "    </tr>\n",
       "    <tr>\n",
       "      <th>PassengerId</th>\n",
       "      <th></th>\n",
       "      <th></th>\n",
       "      <th></th>\n",
       "      <th></th>\n",
       "      <th></th>\n",
       "      <th></th>\n",
       "      <th></th>\n",
       "      <th></th>\n",
       "    </tr>\n",
       "  </thead>\n",
       "  <tbody>\n",
       "    <tr>\n",
       "      <th>1</th>\n",
       "      <td>0</td>\n",
       "      <td>3</td>\n",
       "      <td>male</td>\n",
       "      <td>22.0</td>\n",
       "      <td>1</td>\n",
       "      <td>0</td>\n",
       "      <td>7.2500</td>\n",
       "      <td>S</td>\n",
       "    </tr>\n",
       "    <tr>\n",
       "      <th>2</th>\n",
       "      <td>1</td>\n",
       "      <td>1</td>\n",
       "      <td>female</td>\n",
       "      <td>38.0</td>\n",
       "      <td>1</td>\n",
       "      <td>0</td>\n",
       "      <td>71.2833</td>\n",
       "      <td>C</td>\n",
       "    </tr>\n",
       "    <tr>\n",
       "      <th>3</th>\n",
       "      <td>1</td>\n",
       "      <td>3</td>\n",
       "      <td>female</td>\n",
       "      <td>26.0</td>\n",
       "      <td>0</td>\n",
       "      <td>0</td>\n",
       "      <td>7.9250</td>\n",
       "      <td>S</td>\n",
       "    </tr>\n",
       "    <tr>\n",
       "      <th>4</th>\n",
       "      <td>1</td>\n",
       "      <td>1</td>\n",
       "      <td>female</td>\n",
       "      <td>35.0</td>\n",
       "      <td>1</td>\n",
       "      <td>0</td>\n",
       "      <td>53.1000</td>\n",
       "      <td>S</td>\n",
       "    </tr>\n",
       "    <tr>\n",
       "      <th>5</th>\n",
       "      <td>0</td>\n",
       "      <td>3</td>\n",
       "      <td>male</td>\n",
       "      <td>35.0</td>\n",
       "      <td>0</td>\n",
       "      <td>0</td>\n",
       "      <td>8.0500</td>\n",
       "      <td>S</td>\n",
       "    </tr>\n",
       "    <tr>\n",
       "      <th>...</th>\n",
       "      <td>...</td>\n",
       "      <td>...</td>\n",
       "      <td>...</td>\n",
       "      <td>...</td>\n",
       "      <td>...</td>\n",
       "      <td>...</td>\n",
       "      <td>...</td>\n",
       "      <td>...</td>\n",
       "    </tr>\n",
       "    <tr>\n",
       "      <th>887</th>\n",
       "      <td>0</td>\n",
       "      <td>2</td>\n",
       "      <td>male</td>\n",
       "      <td>27.0</td>\n",
       "      <td>0</td>\n",
       "      <td>0</td>\n",
       "      <td>13.0000</td>\n",
       "      <td>S</td>\n",
       "    </tr>\n",
       "    <tr>\n",
       "      <th>888</th>\n",
       "      <td>1</td>\n",
       "      <td>1</td>\n",
       "      <td>female</td>\n",
       "      <td>19.0</td>\n",
       "      <td>0</td>\n",
       "      <td>0</td>\n",
       "      <td>30.0000</td>\n",
       "      <td>S</td>\n",
       "    </tr>\n",
       "    <tr>\n",
       "      <th>889</th>\n",
       "      <td>0</td>\n",
       "      <td>3</td>\n",
       "      <td>female</td>\n",
       "      <td>28.0</td>\n",
       "      <td>1</td>\n",
       "      <td>2</td>\n",
       "      <td>23.4500</td>\n",
       "      <td>S</td>\n",
       "    </tr>\n",
       "    <tr>\n",
       "      <th>890</th>\n",
       "      <td>1</td>\n",
       "      <td>1</td>\n",
       "      <td>male</td>\n",
       "      <td>26.0</td>\n",
       "      <td>0</td>\n",
       "      <td>0</td>\n",
       "      <td>30.0000</td>\n",
       "      <td>C</td>\n",
       "    </tr>\n",
       "    <tr>\n",
       "      <th>891</th>\n",
       "      <td>0</td>\n",
       "      <td>3</td>\n",
       "      <td>male</td>\n",
       "      <td>32.0</td>\n",
       "      <td>0</td>\n",
       "      <td>0</td>\n",
       "      <td>7.7500</td>\n",
       "      <td>Q</td>\n",
       "    </tr>\n",
       "  </tbody>\n",
       "</table>\n",
       "<p>891 rows × 8 columns</p>\n",
       "</div>"
      ],
      "text/plain": [
       "             Survived  Pclass     Sex   Age  SibSp  Parch     Fare Embarked\n",
       "PassengerId                                                                \n",
       "1                   0       3    male  22.0      1      0   7.2500        S\n",
       "2                   1       1  female  38.0      1      0  71.2833        C\n",
       "3                   1       3  female  26.0      0      0   7.9250        S\n",
       "4                   1       1  female  35.0      1      0  53.1000        S\n",
       "5                   0       3    male  35.0      0      0   8.0500        S\n",
       "...               ...     ...     ...   ...    ...    ...      ...      ...\n",
       "887                 0       2    male  27.0      0      0  13.0000        S\n",
       "888                 1       1  female  19.0      0      0  30.0000        S\n",
       "889                 0       3  female  28.0      1      2  23.4500        S\n",
       "890                 1       1    male  26.0      0      0  30.0000        C\n",
       "891                 0       3    male  32.0      0      0   7.7500        Q\n",
       "\n",
       "[891 rows x 8 columns]"
      ]
     },
     "execution_count": 11,
     "metadata": {},
     "output_type": "execute_result"
    }
   ],
   "source": [
    "import seaborn as sns\n",
    "import matplotlib.pyplot as plt\n",
    "%matplotlib inline\n",
    "train_df"
   ]
  },
  {
   "cell_type": "code",
   "execution_count": 12,
   "id": "192fc407",
   "metadata": {
    "execution": {
     "iopub.execute_input": "2025-01-09T17:14:16.801077Z",
     "iopub.status.busy": "2025-01-09T17:14:16.800478Z",
     "iopub.status.idle": "2025-01-09T17:14:17.129220Z",
     "shell.execute_reply": "2025-01-09T17:14:17.127807Z"
    },
    "papermill": {
     "duration": 0.343916,
     "end_time": "2025-01-09T17:14:17.131137",
     "exception": false,
     "start_time": "2025-01-09T17:14:16.787221",
     "status": "completed"
    },
    "tags": []
   },
   "outputs": [
    {
     "data": {
      "image/png": "[encoded data removed]",
      "text/plain": [
       "<Figure size 640x480 with 1 Axes>"
      ]
     },
     "metadata": {},
     "output_type": "display_data"
    }
   ],
   "source": [
    "sns.barplot(x=\"Pclass\", y=\"Survived\", data=train_df);"
   ]
  },
  {
   "cell_type": "code",
   "execution_count": 13,
   "id": "17adb2c6",
   "metadata": {
    "execution": {
     "iopub.execute_input": "2025-01-09T17:14:17.159387Z",
     "iopub.status.busy": "2025-01-09T17:14:17.159046Z",
     "iopub.status.idle": "2025-01-09T17:14:17.442605Z",
     "shell.execute_reply": "2025-01-09T17:14:17.441345Z"
    },
    "papermill": {
     "duration": 0.299335,
     "end_time": "2025-01-09T17:14:17.444533",
     "exception": false,
     "start_time": "2025-01-09T17:14:17.145198",
     "status": "completed"
    },
    "tags": []
   },
   "outputs": [
    {
     "data": {
      "image/png": "[encoded data removed]",
      "text/plain": [
       "<Figure size 640x480 with 1 Axes>"
      ]
     },
     "metadata": {},
     "output_type": "display_data"
    }
   ],
   "source": [
    "sns.barplot(x=\"Sex\", y=\"Survived\", data=train_df);"
   ]
  },
  {
   "cell_type": "code",
   "execution_count": 14,
   "id": "64c83e07",
   "metadata": {
    "execution": {
     "iopub.execute_input": "2025-01-09T17:14:17.472911Z",
     "iopub.status.busy": "2025-01-09T17:14:17.472509Z",
     "iopub.status.idle": "2025-01-09T17:14:17.882536Z",
     "shell.execute_reply": "2025-01-09T17:14:17.881220Z"
    },
    "papermill": {
     "duration": 0.426993,
     "end_time": "2025-01-09T17:14:17.884952",
     "exception": false,
     "start_time": "2025-01-09T17:14:17.457959",
     "status": "completed"
    },
    "tags": []
   },
   "outputs": [
    {
     "data": {
      "image/png": "[encoded data removed]",
      "text/plain": [
       "<Figure size 640x480 with 1 Axes>"
      ]
     },
     "metadata": {},
     "output_type": "display_data"
    }
   ],
   "source": [
    "sns.barplot(x=\"SibSp\", y=\"Survived\", data=train_df);"
   ]
  },
  {
   "cell_type": "code",
   "execution_count": 15,
   "id": "c06ece17",
   "metadata": {
    "execution": {
     "iopub.execute_input": "2025-01-09T17:14:17.914162Z",
     "iopub.status.busy": "2025-01-09T17:14:17.913733Z",
     "iopub.status.idle": "2025-01-09T17:14:18.302795Z",
     "shell.execute_reply": "2025-01-09T17:14:18.301518Z"
    },
    "papermill": {
     "duration": 0.406243,
     "end_time": "2025-01-09T17:14:18.304963",
     "exception": false,
     "start_time": "2025-01-09T17:14:17.898720",
     "status": "completed"
    },
    "tags": []
   },
   "outputs": [
    {
     "data": {
      "image/png": "[encoded data removed]",
      "text/plain": [
       "<Figure size 640x480 with 1 Axes>"
      ]
     },
     "metadata": {},
     "output_type": "display_data"
    }
   ],
   "source": [
    "sns.barplot(x=\"Parch\", y=\"Survived\", data=train_df);"
   ]
  },
  {
   "cell_type": "code",
   "execution_count": 16,
   "id": "fb732b8c",
   "metadata": {
    "execution": {
     "iopub.execute_input": "2025-01-09T17:14:18.334791Z",
     "iopub.status.busy": "2025-01-09T17:14:18.334327Z",
     "iopub.status.idle": "2025-01-09T17:14:18.608804Z",
     "shell.execute_reply": "2025-01-09T17:14:18.607446Z"
    },
    "papermill": {
     "duration": 0.291737,
     "end_time": "2025-01-09T17:14:18.610700",
     "exception": false,
     "start_time": "2025-01-09T17:14:18.318963",
     "status": "completed"
    },
    "tags": []
   },
   "outputs": [
    {
     "data": {
      "image/png": "[encoded data removed]",
      "text/plain": [
       "<Figure size 640x480 with 1 Axes>"
      ]
     },
     "metadata": {},
     "output_type": "display_data"
    }
   ],
   "source": [
    "sns.barplot(x=\"Embarked\", y=\"Survived\", data=train_df);"
   ]
  },
  {
   "cell_type": "code",
   "execution_count": 17,
   "id": "c185244e",
   "metadata": {
    "execution": {
     "iopub.execute_input": "2025-01-09T17:14:18.640631Z",
     "iopub.status.busy": "2025-01-09T17:14:18.640163Z",
     "iopub.status.idle": "2025-01-09T17:14:18.650207Z",
     "shell.execute_reply": "2025-01-09T17:14:18.648794Z"
    },
    "papermill": {
     "duration": 0.027963,
     "end_time": "2025-01-09T17:14:18.652476",
     "exception": false,
     "start_time": "2025-01-09T17:14:18.624513",
     "status": "completed"
    },
    "tags": []
   },
   "outputs": [],
   "source": [
    "bins = [0, 18, 30, 60, 100]\n",
    "labels = [\"kid\", \"youth\", \"adult\", \"senior\"]\n",
    "train_df[\"AgeCategory\"] = pd.cut(train_df['Age'], bins=bins, labels=labels, right=False)"
   ]
  },
  {
   "cell_type": "code",
   "execution_count": 18,
   "id": "04dd0aff",
   "metadata": {
    "execution": {
     "iopub.execute_input": "2025-01-09T17:14:18.683283Z",
     "iopub.status.busy": "2025-01-09T17:14:18.682860Z",
     "iopub.status.idle": "2025-01-09T17:14:19.008637Z",
     "shell.execute_reply": "2025-01-09T17:14:19.007152Z"
    },
    "papermill": {
     "duration": 0.343844,
     "end_time": "2025-01-09T17:14:19.010815",
     "exception": false,
     "start_time": "2025-01-09T17:14:18.666971",
     "status": "completed"
    },
    "tags": []
   },
   "outputs": [
    {
     "name": "stderr",
     "output_type": "stream",
     "text": [
      "/usr/local/lib/python3.10/dist-packages/seaborn/categorical.py:641: FutureWarning: The default of observed=False is deprecated and will be changed to True in a future version of pandas. Pass observed=False to retain current behavior or observed=True to adopt the future default and silence this warning.\n",
      "  grouped_vals = vals.groupby(grouper)\n"
     ]
    },
    {
     "data": {
      "image/png": "[encoded data removed]",
      "text/plain": [
       "<Figure size 640x480 with 1 Axes>"
      ]
     },
     "metadata": {},
     "output_type": "display_data"
    }
   ],
   "source": [
    "sns.barplot(x=\"AgeCategory\", y=\"Survived\", data=train_df);"
   ]
  },
  {
   "cell_type": "code",
   "execution_count": 19,
   "id": "45295f33",
   "metadata": {
    "execution": {
     "iopub.execute_input": "2025-01-09T17:14:19.042927Z",
     "iopub.status.busy": "2025-01-09T17:14:19.042462Z",
     "iopub.status.idle": "2025-01-09T17:14:19.054998Z",
     "shell.execute_reply": "2025-01-09T17:14:19.053515Z"
    },
    "papermill": {
     "duration": 0.030762,
     "end_time": "2025-01-09T17:14:19.057219",
     "exception": false,
     "start_time": "2025-01-09T17:14:19.026457",
     "status": "completed"
    },
    "tags": []
   },
   "outputs": [
    {
     "data": {
      "text/plain": [
       "count    891.000000\n",
       "mean      32.204208\n",
       "std       49.693429\n",
       "min        0.000000\n",
       "25%        7.910400\n",
       "50%       14.454200\n",
       "75%       31.000000\n",
       "max      512.329200\n",
       "Name: Fare, dtype: float64"
      ]
     },
     "execution_count": 19,
     "metadata": {},
     "output_type": "execute_result"
    }
   ],
   "source": [
    "train_df[\"Fare\"].describe()"
   ]
  },
  {
   "cell_type": "code",
   "execution_count": 20,
   "id": "88085bc6",
   "metadata": {
    "execution": {
     "iopub.execute_input": "2025-01-09T17:14:19.087509Z",
     "iopub.status.busy": "2025-01-09T17:14:19.087091Z",
     "iopub.status.idle": "2025-01-09T17:14:19.096031Z",
     "shell.execute_reply": "2025-01-09T17:14:19.094586Z"
    },
    "papermill": {
     "duration": 0.026397,
     "end_time": "2025-01-09T17:14:19.098144",
     "exception": false,
     "start_time": "2025-01-09T17:14:19.071747",
     "status": "completed"
    },
    "tags": []
   },
   "outputs": [],
   "source": [
    "bins = [0, 15, 40, 600]\n",
    "labels = [\"cheep\", \"middle\", \"expensive\"]\n",
    "train_df[\"FareCategory\"] = pd.cut(train_df['Fare'], bins=bins, labels=labels, right=False)"
   ]
  },
  {
   "cell_type": "code",
   "execution_count": 21,
   "id": "ce69e754",
   "metadata": {
    "execution": {
     "iopub.execute_input": "2025-01-09T17:14:19.130632Z",
     "iopub.status.busy": "2025-01-09T17:14:19.130172Z",
     "iopub.status.idle": "2025-01-09T17:14:19.443307Z",
     "shell.execute_reply": "2025-01-09T17:14:19.441974Z"
    },
    "papermill": {
     "duration": 0.33215,
     "end_time": "2025-01-09T17:14:19.445477",
     "exception": false,
     "start_time": "2025-01-09T17:14:19.113327",
     "status": "completed"
    },
    "tags": []
   },
   "outputs": [
    {
     "name": "stderr",
     "output_type": "stream",
     "text": [
      "/usr/local/lib/python3.10/dist-packages/seaborn/categorical.py:641: FutureWarning: The default of observed=False is deprecated and will be changed to True in a future version of pandas. Pass observed=False to retain current behavior or observed=True to adopt the future default and silence this warning.\n",
      "  grouped_vals = vals.groupby(grouper)\n"
     ]
    },
    {
     "data": {
      "image/png": "[encoded data removed]",
      "text/plain": [
       "<Figure size 640x480 with 1 Axes>"
      ]
     },
     "metadata": {},
     "output_type": "display_data"
    }
   ],
   "source": [
    "sns.barplot(x=\"FareCategory\", y=\"Survived\", data=train_df);"
   ]
  },
  {
   "cell_type": "code",
   "execution_count": 22,
   "id": "579b9468",
   "metadata": {
    "execution": {
     "iopub.execute_input": "2025-01-09T17:14:19.483101Z",
     "iopub.status.busy": "2025-01-09T17:14:19.482577Z",
     "iopub.status.idle": "2025-01-09T17:14:19.491013Z",
     "shell.execute_reply": "2025-01-09T17:14:19.489679Z"
    },
    "papermill": {
     "duration": 0.030883,
     "end_time": "2025-01-09T17:14:19.493169",
     "exception": false,
     "start_time": "2025-01-09T17:14:19.462286",
     "status": "completed"
    },
    "tags": []
   },
   "outputs": [],
   "source": [
    "train_df.drop(\"AgeCategory\", inplace=True, axis=1)\n",
    "train_df.drop(\"FareCategory\", inplace=True, axis=1)"
   ]
  },
  {
   "cell_type": "code",
   "execution_count": 23,
   "id": "5e2e3a93",
   "metadata": {
    "execution": {
     "iopub.execute_input": "2025-01-09T17:14:19.524833Z",
     "iopub.status.busy": "2025-01-09T17:14:19.524385Z",
     "iopub.status.idle": "2025-01-09T17:14:19.534419Z",
     "shell.execute_reply": "2025-01-09T17:14:19.533154Z"
    },
    "papermill": {
     "duration": 0.028153,
     "end_time": "2025-01-09T17:14:19.536449",
     "exception": false,
     "start_time": "2025-01-09T17:14:19.508296",
     "status": "completed"
    },
    "tags": []
   },
   "outputs": [
    {
     "data": {
      "text/plain": [
       "count     891\n",
       "unique      3\n",
       "top         S\n",
       "freq      646\n",
       "Name: Embarked, dtype: object"
      ]
     },
     "execution_count": 23,
     "metadata": {},
     "output_type": "execute_result"
    }
   ],
   "source": [
    "train_df[\"Embarked\"].describe()"
   ]
  },
  {
   "cell_type": "markdown",
   "id": "74bc93de",
   "metadata": {
    "papermill": {
     "duration": 0.014389,
     "end_time": "2025-01-09T17:14:19.566462",
     "exception": false,
     "start_time": "2025-01-09T17:14:19.552073",
     "status": "completed"
    },
    "tags": []
   },
   "source": [
    "# Modeling"
   ]
  },
  {
   "cell_type": "code",
   "execution_count": 24,
   "id": "2c0e8890",
   "metadata": {
    "execution": {
     "iopub.execute_input": "2025-01-09T17:14:19.597228Z",
     "iopub.status.busy": "2025-01-09T17:14:19.596806Z",
     "iopub.status.idle": "2025-01-09T17:14:19.887358Z",
     "shell.execute_reply": "2025-01-09T17:14:19.886107Z"
    },
    "papermill": {
     "duration": 0.308479,
     "end_time": "2025-01-09T17:14:19.889631",
     "exception": false,
     "start_time": "2025-01-09T17:14:19.581152",
     "status": "completed"
    },
    "tags": []
   },
   "outputs": [],
   "source": [
    "from sklearn.model_selection import train_test_split"
   ]
  },
  {
   "cell_type": "code",
   "execution_count": 25,
   "id": "7c8be57a",
   "metadata": {
    "execution": {
     "iopub.execute_input": "2025-01-09T17:14:19.923915Z",
     "iopub.status.busy": "2025-01-09T17:14:19.923450Z",
     "iopub.status.idle": "2025-01-09T17:14:19.931018Z",
     "shell.execute_reply": "2025-01-09T17:14:19.929840Z"
    },
    "papermill": {
     "duration": 0.026627,
     "end_time": "2025-01-09T17:14:19.932995",
     "exception": false,
     "start_time": "2025-01-09T17:14:19.906368",
     "status": "completed"
    },
    "tags": []
   },
   "outputs": [],
   "source": [
    "train_df['Sex'] = train_df['Sex'].map({'male': 0, 'female': 1})\n",
    "train_df['Embarked'] = train_df['Embarked'].map({'S': 0, 'C': 1, 'Q': 2})"
   ]
  },
  {
   "cell_type": "code",
   "execution_count": 26,
   "id": "e914bfcf",
   "metadata": {
    "execution": {
     "iopub.execute_input": "2025-01-09T17:14:19.966255Z",
     "iopub.status.busy": "2025-01-09T17:14:19.965861Z",
     "iopub.status.idle": "2025-01-09T17:14:19.972585Z",
     "shell.execute_reply": "2025-01-09T17:14:19.971235Z"
    },
    "papermill": {
     "duration": 0.025984,
     "end_time": "2025-01-09T17:14:19.974706",
     "exception": false,
     "start_time": "2025-01-09T17:14:19.948722",
     "status": "completed"
    },
    "tags": []
   },
   "outputs": [],
   "source": [
    "X = train_df.drop(\"Survived\", axis=1)\n",
    "y = train_df[\"Survived\"]"
   ]
  },
  {
   "cell_type": "code",
   "execution_count": 27,
   "id": "e689cc3f",
   "metadata": {
    "execution": {
     "iopub.execute_input": "2025-01-09T17:14:20.009400Z",
     "iopub.status.busy": "2025-01-09T17:14:20.009037Z",
     "iopub.status.idle": "2025-01-09T17:14:20.017629Z",
     "shell.execute_reply": "2025-01-09T17:14:20.016321Z"
    },
    "papermill": {
     "duration": 0.028116,
     "end_time": "2025-01-09T17:14:20.019913",
     "exception": false,
     "start_time": "2025-01-09T17:14:19.991797",
     "status": "completed"
    },
    "tags": []
   },
   "outputs": [],
   "source": [
    "X_train, X_test, y_train, y_test = train_test_split(X, y, test_size=0.2, random_state=42)"
   ]
  },
  {
   "cell_type": "code",
   "execution_count": 28,
   "id": "8cc430c6",
   "metadata": {
    "execution": {
     "iopub.execute_input": "2025-01-09T17:14:20.053358Z",
     "iopub.status.busy": "2025-01-09T17:14:20.052950Z",
     "iopub.status.idle": "2025-01-09T17:14:20.057864Z",
     "shell.execute_reply": "2025-01-09T17:14:20.056608Z"
    },
    "papermill": {
     "duration": 0.024058,
     "end_time": "2025-01-09T17:14:20.059674",
     "exception": false,
     "start_time": "2025-01-09T17:14:20.035616",
     "status": "completed"
    },
    "tags": []
   },
   "outputs": [],
   "source": [
    "models_accuracy = dict()"
   ]
  },
  {
   "cell_type": "code",
   "execution_count": 29,
   "id": "62b76087",
   "metadata": {
    "execution": {
     "iopub.execute_input": "2025-01-09T17:14:20.093048Z",
     "iopub.status.busy": "2025-01-09T17:14:20.092563Z",
     "iopub.status.idle": "2025-01-09T17:19:47.864951Z",
     "shell.execute_reply": "2025-01-09T17:19:47.863354Z"
    },
    "papermill": {
     "duration": 327.806794,
     "end_time": "2025-01-09T17:19:47.882136",
     "exception": false,
     "start_time": "2025-01-09T17:14:20.075342",
     "status": "completed"
    },
    "tags": []
   },
   "outputs": [
    {
     "name": "stdout",
     "output_type": "stream",
     "text": [
      "Fitting 5 folds for each of 27000 candidates, totalling 135000 fits\n",
      "CPU times: user 1min 4s, sys: 2.44 s, total: 1min 7s\n",
      "Wall time: 5min 27s\n"
     ]
    },
    {
     "data": {
      "text/html": [
       "<style>#sk-container-id-1 {color: black;background-color: white;}#sk-container-id-1 pre{padding: 0;}#sk-container-id-1 div.sk-toggleable {background-color: white;}#sk-container-id-1 label.sk-toggleable__label {cursor: pointer;display: block;width: 100%;margin-bottom: 0;padding: 0.3em;box-sizing: border-box;text-align: center;}#sk-container-id-1 label.sk-toggleable__label-arrow:before {content: \"▸\";float: left;margin-right: 0.25em;color: #696969;}#sk-container-id-1 label.sk-toggleable__label-arrow:hover:before {color: black;}#sk-container-id-1 div.sk-estimator:hover label.sk-toggleable__label-arrow:before {color: black;}#sk-container-id-1 div.sk-toggleable__content {max-height: 0;max-width: 0;overflow: hidden;text-align: left;background-color: #f0f8ff;}#sk-container-id-1 div.sk-toggleable__content pre {margin: 0.2em;color: black;border-radius: 0.25em;background-color: #f0f8ff;}#sk-container-id-1 input.sk-toggleable__control:checked~div.sk-toggleable__content {max-height: 200px;max-width: 100%;overflow: auto;}#sk-container-id-1 input.sk-toggleable__control:checked~label.sk-toggleable__label-arrow:before {content: \"▾\";}#sk-container-id-1 div.sk-estimator input.sk-toggleable__control:checked~label.sk-toggleable__label {background-color: #d4ebff;}#sk-container-id-1 div.sk-label input.sk-toggleable__control:checked~label.sk-toggleable__label {background-color: #d4ebff;}#sk-container-id-1 input.sk-hidden--visually {border: 0;clip: rect(1px 1px 1px 1px);clip: rect(1px, 1px, 1px, 1px);height: 1px;margin: -1px;overflow: hidden;padding: 0;position: absolute;width: 1px;}#sk-container-id-1 div.sk-estimator {font-family: monospace;background-color: #f0f8ff;border: 1px dotted black;border-radius: 0.25em;box-sizing: border-box;margin-bottom: 0.5em;}#sk-container-id-1 div.sk-estimator:hover {background-color: #d4ebff;}#sk-container-id-1 div.sk-parallel-item::after {content: \"\";width: 100%;border-bottom: 1px solid gray;flex-grow: 1;}#sk-container-id-1 div.sk-label:hover label.sk-toggleable__label {background-color: #d4ebff;}#sk-container-id-1 div.sk-serial::before {content: \"\";position: absolute;border-left: 1px solid gray;box-sizing: border-box;top: 0;bottom: 0;left: 50%;z-index: 0;}#sk-container-id-1 div.sk-serial {display: flex;flex-direction: column;align-items: center;background-color: white;padding-right: 0.2em;padding-left: 0.2em;position: relative;}#sk-container-id-1 div.sk-item {position: relative;z-index: 1;}#sk-container-id-1 div.sk-parallel {display: flex;align-items: stretch;justify-content: center;background-color: white;position: relative;}#sk-container-id-1 div.sk-item::before, #sk-container-id-1 div.sk-parallel-item::before {content: \"\";position: absolute;border-left: 1px solid gray;box-sizing: border-box;top: 0;bottom: 0;left: 50%;z-index: -1;}#sk-container-id-1 div.sk-parallel-item {display: flex;flex-direction: column;z-index: 1;position: relative;background-color: white;}#sk-container-id-1 div.sk-parallel-item:first-child::after {align-self: flex-end;width: 50%;}#sk-container-id-1 div.sk-parallel-item:last-child::after {align-self: flex-start;width: 50%;}#sk-container-id-1 div.sk-parallel-item:only-child::after {width: 0;}#sk-container-id-1 div.sk-dashed-wrapped {border: 1px dashed gray;margin: 0 0.4em 0.5em 0.4em;box-sizing: border-box;padding-bottom: 0.4em;background-color: white;}#sk-container-id-1 div.sk-label label {font-family: monospace;font-weight: bold;display: inline-block;line-height: 1.2em;}#sk-container-id-1 div.sk-label-container {text-align: center;}#sk-container-id-1 div.sk-container {/* jupyter's `normalize.less` sets `[hidden] { display: none; }` but bootstrap.min.css set `[hidden] { display: none !important; }` so we also need the `!important` here to be able to override the default hidden behavior on the sphinx rendered scikit-learn.org. See: https://github.com/scikit-learn/scikit-learn/issues/21755 */display: inline-block !important;position: relative;}#sk-container-id-1 div.sk-text-repr-fallback {display: none;}</style><div id=\"sk-container-id-1\" class=\"sk-top-container\"><div class=\"sk-text-repr-fallback\"><pre>GridSearchCV(cv=5, estimator=DecisionTreeClassifier(), n_jobs=-1,\n",
       "             param_grid={&#x27;ccp_alpha&#x27;: array([4.e-05, 6.e-05]),\n",
       "                         &#x27;criterion&#x27;: [&#x27;gini&#x27;, &#x27;entropy&#x27;, &#x27;log_loss&#x27;],\n",
       "                         &#x27;max_depth&#x27;: [2, 4, 6, 14, 16],\n",
       "                         &#x27;max_features&#x27;: [&#x27;sqrt&#x27;, &#x27;log2&#x27;, None],\n",
       "                         &#x27;max_leaf_nodes&#x27;: [80, 84, 88, 92, 96, 100],\n",
       "                         &#x27;min_samples_leaf&#x27;: [1, 3, 5, 7, 13],\n",
       "                         &#x27;min_samples_split&#x27;: [2, 4, 6, 14, 16],\n",
       "                         &#x27;random_state&#x27;: [42], &#x27;splitter&#x27;: [&#x27;best&#x27;, &#x27;random&#x27;]},\n",
       "             scoring=&#x27;accuracy&#x27;, verbose=1)</pre><b>In a Jupyter environment, please rerun this cell to show the HTML representation or trust the notebook. <br />On GitHub, the HTML representation is unable to render, please try loading this page with nbviewer.org.</b></div><div class=\"sk-container\" hidden><div class=\"sk-item sk-dashed-wrapped\"><div class=\"sk-label-container\"><div class=\"sk-label sk-toggleable\"><input class=\"sk-toggleable__control sk-hidden--visually\" id=\"sk-estimator-id-1\" type=\"checkbox\" ><label for=\"sk-estimator-id-1\" class=\"sk-toggleable__label sk-toggleable__label-arrow\">GridSearchCV</label><div class=\"sk-toggleable__content\"><pre>GridSearchCV(cv=5, estimator=DecisionTreeClassifier(), n_jobs=-1,\n",
       "             param_grid={&#x27;ccp_alpha&#x27;: array([4.e-05, 6.e-05]),\n",
       "                         &#x27;criterion&#x27;: [&#x27;gini&#x27;, &#x27;entropy&#x27;, &#x27;log_loss&#x27;],\n",
       "                         &#x27;max_depth&#x27;: [2, 4, 6, 14, 16],\n",
       "                         &#x27;max_features&#x27;: [&#x27;sqrt&#x27;, &#x27;log2&#x27;, None],\n",
       "                         &#x27;max_leaf_nodes&#x27;: [80, 84, 88, 92, 96, 100],\n",
       "                         &#x27;min_samples_leaf&#x27;: [1, 3, 5, 7, 13],\n",
       "                         &#x27;min_samples_split&#x27;: [2, 4, 6, 14, 16],\n",
       "                         &#x27;random_state&#x27;: [42], &#x27;splitter&#x27;: [&#x27;best&#x27;, &#x27;random&#x27;]},\n",
       "             scoring=&#x27;accuracy&#x27;, verbose=1)</pre></div></div></div><div class=\"sk-parallel\"><div class=\"sk-parallel-item\"><div class=\"sk-item\"><div class=\"sk-label-container\"><div class=\"sk-label sk-toggleable\"><input class=\"sk-toggleable__control sk-hidden--visually\" id=\"sk-estimator-id-2\" type=\"checkbox\" ><label for=\"sk-estimator-id-2\" class=\"sk-toggleable__label sk-toggleable__label-arrow\">estimator: DecisionTreeClassifier</label><div class=\"sk-toggleable__content\"><pre>DecisionTreeClassifier()</pre></div></div></div><div class=\"sk-serial\"><div class=\"sk-item\"><div class=\"sk-estimator sk-toggleable\"><input class=\"sk-toggleable__control sk-hidden--visually\" id=\"sk-estimator-id-3\" type=\"checkbox\" ><label for=\"sk-estimator-id-3\" class=\"sk-toggleable__label sk-toggleable__label-arrow\">DecisionTreeClassifier</label><div class=\"sk-toggleable__content\"><pre>DecisionTreeClassifier()</pre></div></div></div></div></div></div></div></div></div></div>"
      ],
      "text/plain": [
       "GridSearchCV(cv=5, estimator=DecisionTreeClassifier(), n_jobs=-1,\n",
       "             param_grid={'ccp_alpha': array([4.e-05, 6.e-05]),\n",
       "                         'criterion': ['gini', 'entropy', 'log_loss'],\n",
       "                         'max_depth': [2, 4, 6, 14, 16],\n",
       "                         'max_features': ['sqrt', 'log2', None],\n",
       "                         'max_leaf_nodes': [80, 84, 88, 92, 96, 100],\n",
       "                         'min_samples_leaf': [1, 3, 5, 7, 13],\n",
       "                         'min_samples_split': [2, 4, 6, 14, 16],\n",
       "                         'random_state': [42], 'splitter': ['best', 'random']},\n",
       "             scoring='accuracy', verbose=1)"
      ]
     },
     "execution_count": 29,
     "metadata": {},
     "output_type": "execute_result"
    }
   ],
   "source": [
    "%%time\n",
    "from sklearn.model_selection import GridSearchCV\n",
    "from sklearn.tree import DecisionTreeClassifier\n",
    "\n",
    "grid_params_decision_tree = {\n",
    "    \"criterion\" : [\"gini\", \"entropy\", \"log_loss\"],\n",
    "    \"splitter\" : [\"best\", \"random\"],\n",
    "    \"max_depth\": list(range(2, 8, 2)) + list(range(14, 18, 2)),\n",
    "    \"min_samples_split\": list(range(2, 8, 2)) + list(range(14, 18, 2)),\n",
    "    \"min_samples_leaf\": list(range(1, 9, 2)) + list(range(13, 15, 2)),\n",
    "    'max_features': ['sqrt', 'log2', None],\n",
    "    'random_state': [42],\n",
    "    'max_leaf_nodes': list(range(80, 102, 4)),\n",
    "    'ccp_alpha': np.linspace(4e-05, 6e-05, 2)\n",
    "}\n",
    "tree = DecisionTreeClassifier()\n",
    "grid_search = GridSearchCV(estimator=tree, param_grid=grid_params_decision_tree, cv=5, scoring='accuracy', verbose=1, n_jobs=-1)\n",
    "grid_search.fit(X_train, y_train)"
   ]
  },
  {
   "cell_type": "code",
   "execution_count": 30,
   "id": "41275af0",
   "metadata": {
    "execution": {
     "iopub.execute_input": "2025-01-09T17:19:47.919591Z",
     "iopub.status.busy": "2025-01-09T17:19:47.919174Z",
     "iopub.status.idle": "2025-01-09T17:19:47.926909Z",
     "shell.execute_reply": "2025-01-09T17:19:47.925093Z"
    },
    "papermill": {
     "duration": 0.029453,
     "end_time": "2025-01-09T17:19:47.929252",
     "exception": false,
     "start_time": "2025-01-09T17:19:47.899799",
     "status": "completed"
    },
    "tags": []
   },
   "outputs": [
    {
     "name": "stdout",
     "output_type": "stream",
     "text": [
      "Best Parameters found:\n",
      "{'ccp_alpha': 4e-05, 'criterion': 'gini', 'max_depth': 6, 'max_features': None, 'max_leaf_nodes': 80, 'min_samples_leaf': 1, 'min_samples_split': 14, 'random_state': 42, 'splitter': 'random'}\n",
      "Best Accuracy Score:\n",
      "0.8286319314488327\n"
     ]
    }
   ],
   "source": [
    "print(\"Best Parameters found:\")\n",
    "print(grid_search.best_params_)\n",
    "print(\"Best Accuracy Score:\")\n",
    "print(grid_search.best_score_)"
   ]
  },
  {
   "cell_type": "code",
   "execution_count": 31,
   "id": "ca935fb1",
   "metadata": {
    "execution": {
     "iopub.execute_input": "2025-01-09T17:19:47.962914Z",
     "iopub.status.busy": "2025-01-09T17:19:47.962436Z",
     "iopub.status.idle": "2025-01-09T17:19:47.967919Z",
     "shell.execute_reply": "2025-01-09T17:19:47.966614Z"
    },
    "papermill": {
     "duration": 0.024508,
     "end_time": "2025-01-09T17:19:47.969813",
     "exception": false,
     "start_time": "2025-01-09T17:19:47.945305",
     "status": "completed"
    },
    "tags": []
   },
   "outputs": [],
   "source": [
    "grid_base_params = {'ccp_alpha': 4e-05, \n",
    "                    'criterion': 'gini', \n",
    "                    'max_depth': 6, \n",
    "                    'max_features': None, \n",
    "                    'max_leaf_nodes': 80, \n",
    "                    'min_samples_leaf': 1, \n",
    "                    'min_samples_split': 14, \n",
    "                    'random_state': 42, \n",
    "                    'splitter': 'random'}\n",
    "base_estimator = DecisionTreeClassifier(**grid_base_params)"
   ]
  },
  {
   "cell_type": "code",
   "execution_count": 32,
   "id": "0439497b",
   "metadata": {
    "execution": {
     "iopub.execute_input": "2025-01-09T17:19:48.003903Z",
     "iopub.status.busy": "2025-01-09T17:19:48.003337Z",
     "iopub.status.idle": "2025-01-09T17:19:48.015106Z",
     "shell.execute_reply": "2025-01-09T17:19:48.013809Z"
    },
    "papermill": {
     "duration": 0.031346,
     "end_time": "2025-01-09T17:19:48.017036",
     "exception": false,
     "start_time": "2025-01-09T17:19:47.985690",
     "status": "completed"
    },
    "tags": []
   },
   "outputs": [
    {
     "name": "stdout",
     "output_type": "stream",
     "text": [
      "0.776536312849162\n"
     ]
    }
   ],
   "source": [
    "from sklearn.metrics import accuracy_score\n",
    "pred = grid_search.predict(X_test)\n",
    "accuracy = accuracy_score(y_test, pred)\n",
    "print(accuracy)\n",
    "models_accuracy[\"DecisionTree\"] = [grid_search.best_estimator_, accuracy]"
   ]
  },
  {
   "cell_type": "code",
   "execution_count": 33,
   "id": "7ce93a39",
   "metadata": {
    "execution": {
     "iopub.execute_input": "2025-01-09T17:19:48.049601Z",
     "iopub.status.busy": "2025-01-09T17:19:48.049115Z",
     "iopub.status.idle": "2025-01-09T17:20:47.447036Z",
     "shell.execute_reply": "2025-01-09T17:20:47.445809Z"
    },
    "papermill": {
     "duration": 59.432626,
     "end_time": "2025-01-09T17:20:47.465147",
     "exception": false,
     "start_time": "2025-01-09T17:19:48.032521",
     "status": "completed"
    },
    "tags": []
   },
   "outputs": [
    {
     "name": "stdout",
     "output_type": "stream",
     "text": [
      "Fitting 5 folds for each of 63 candidates, totalling 315 fits\n",
      "Best Parameters found:\n",
      "{'max_features': 1.0, 'max_samples': 1.0, 'n_estimators': 100}\n",
      "Best Accuracy Score:\n",
      "0.8286417807544568\n",
      "CPU times: user 1.52 s, sys: 191 ms, total: 1.71 s\n",
      "Wall time: 59.4 s\n"
     ]
    }
   ],
   "source": [
    "%%time\n",
    "from sklearn.ensemble import BaggingClassifier\n",
    "param_grid_bagging = {\n",
    "    'n_estimators': range(50, 351, 50),\n",
    "    'max_samples': [0.5, 0.7, 1.0],\n",
    "    'max_features': [0.5, 0.7, 1.0]\n",
    "}\n",
    "bagging = BaggingClassifier(estimator=base_estimator, random_state=42)\n",
    "\n",
    "grid_search = GridSearchCV(estimator=bagging, param_grid=param_grid_bagging, scoring=\"accuracy\", n_jobs=-1, cv=5, verbose=1)\n",
    "grid_search.fit(X_train, y_train)\n",
    "print(\"Best Parameters found:\")\n",
    "print(grid_search.best_params_)\n",
    "print(\"Best Accuracy Score:\")\n",
    "print(grid_search.best_score_)"
   ]
  },
  {
   "cell_type": "code",
   "execution_count": 34,
   "id": "9aaff1e9",
   "metadata": {
    "execution": {
     "iopub.execute_input": "2025-01-09T17:20:47.498805Z",
     "iopub.status.busy": "2025-01-09T17:20:47.498393Z",
     "iopub.status.idle": "2025-01-09T17:20:47.521230Z",
     "shell.execute_reply": "2025-01-09T17:20:47.519825Z"
    },
    "papermill": {
     "duration": 0.042169,
     "end_time": "2025-01-09T17:20:47.523353",
     "exception": false,
     "start_time": "2025-01-09T17:20:47.481184",
     "status": "completed"
    },
    "tags": []
   },
   "outputs": [
    {
     "name": "stdout",
     "output_type": "stream",
     "text": [
      "0.8100558659217877\n"
     ]
    }
   ],
   "source": [
    "pred = grid_search.predict(X_test)\n",
    "accuracy = accuracy_score(y_test, pred)\n",
    "print(accuracy)\n",
    "models_accuracy[\"Bagging\"] = [grid_search.best_estimator_, accuracy]"
   ]
  },
  {
   "cell_type": "code",
   "execution_count": 35,
   "id": "fb2a120d",
   "metadata": {
    "execution": {
     "iopub.execute_input": "2025-01-09T17:20:47.556681Z",
     "iopub.status.busy": "2025-01-09T17:20:47.556310Z",
     "iopub.status.idle": "2025-01-09T17:21:38.875170Z",
     "shell.execute_reply": "2025-01-09T17:21:38.873875Z"
    },
    "papermill": {
     "duration": 51.352645,
     "end_time": "2025-01-09T17:21:38.892230",
     "exception": false,
     "start_time": "2025-01-09T17:20:47.539585",
     "status": "completed"
    },
    "tags": []
   },
   "outputs": [
    {
     "name": "stdout",
     "output_type": "stream",
     "text": [
      "Fitting 5 folds for each of 63 candidates, totalling 315 fits\n",
      "Best Parameters found:\n",
      "{'max_features': 0.7, 'max_samples': 0.7, 'n_estimators': 100}\n",
      "Best Accuracy Score:\n",
      "0.832837584950261\n",
      "CPU times: user 1.28 s, sys: 153 ms, total: 1.44 s\n",
      "Wall time: 51.3 s\n"
     ]
    }
   ],
   "source": [
    "%%time\n",
    "from sklearn.ensemble import RandomForestClassifier\n",
    "param_grid_rf = {\n",
    "    'n_estimators': range(60, 361, 50),\n",
    "    'max_features': ['sqrt', 'log2', None]\n",
    "}\n",
    "random_forest = RandomForestClassifier(\n",
    "    criterion=grid_base_params['criterion'],\n",
    "    max_depth=grid_base_params['max_depth'],\n",
    "    min_samples_split=grid_base_params['min_samples_split'],\n",
    "    min_samples_leaf=grid_base_params['min_samples_leaf'],\n",
    "    max_leaf_nodes=grid_base_params['max_leaf_nodes'],\n",
    "    ccp_alpha=grid_base_params['ccp_alpha'],\n",
    "    random_state=42\n",
    ")\n",
    "grid_search = GridSearchCV(estimator=random_forest, param_grid=param_grid_bagging, scoring=\"accuracy\", n_jobs=-1, cv=5, verbose=1)\n",
    "grid_search.fit(X_train, y_train)\n",
    "print(\"Best Parameters found:\")\n",
    "print(grid_search.best_params_)\n",
    "print(\"Best Accuracy Score:\")\n",
    "print(grid_search.best_score_)"
   ]
  },
  {
   "cell_type": "code",
   "execution_count": 36,
   "id": "242b325d",
   "metadata": {
    "execution": {
     "iopub.execute_input": "2025-01-09T17:21:38.925774Z",
     "iopub.status.busy": "2025-01-09T17:21:38.925378Z",
     "iopub.status.idle": "2025-01-09T17:21:38.943182Z",
     "shell.execute_reply": "2025-01-09T17:21:38.941714Z"
    },
    "papermill": {
     "duration": 0.036395,
     "end_time": "2025-01-09T17:21:38.945113",
     "exception": false,
     "start_time": "2025-01-09T17:21:38.908718",
     "status": "completed"
    },
    "tags": []
   },
   "outputs": [
    {
     "name": "stdout",
     "output_type": "stream",
     "text": [
      "0.7988826815642458\n"
     ]
    }
   ],
   "source": [
    "pred = grid_search.predict(X_test)\n",
    "accuracy = accuracy_score(y_test, pred)\n",
    "print(accuracy)\n",
    "models_accuracy[\"RandomForest\"] = [grid_search.best_estimator_, accuracy]"
   ]
  },
  {
   "cell_type": "code",
   "execution_count": 37,
   "id": "6e4b3ac4",
   "metadata": {
    "execution": {
     "iopub.execute_input": "2025-01-09T17:21:38.977938Z",
     "iopub.status.busy": "2025-01-09T17:21:38.977481Z",
     "iopub.status.idle": "2025-01-09T17:21:52.198796Z",
     "shell.execute_reply": "2025-01-09T17:21:52.197453Z"
    },
    "papermill": {
     "duration": 13.258158,
     "end_time": "2025-01-09T17:21:52.219040",
     "exception": false,
     "start_time": "2025-01-09T17:21:38.960882",
     "status": "completed"
    },
    "tags": []
   },
   "outputs": [
    {
     "name": "stdout",
     "output_type": "stream",
     "text": [
      "Fitting 5 folds for each of 21 candidates, totalling 105 fits\n",
      "Best Parameters found:\n",
      "{'max_features': None, 'n_estimators': 150}\n",
      "Best Accuracy Score:\n",
      "0.8314586821629074\n",
      "CPU times: user 523 ms, sys: 48.2 ms, total: 572 ms\n",
      "Wall time: 13.2 s\n"
     ]
    }
   ],
   "source": [
    "%%time\n",
    "from sklearn.ensemble import ExtraTreesClassifier\n",
    "\n",
    "param_grid_et = {\n",
    "    'n_estimators': range(50, 351, 50),\n",
    "    'max_features': ['sqrt', 'log2', None]\n",
    "}\n",
    "\n",
    "et_model = ExtraTreesClassifier(\n",
    "    criterion=grid_base_params['criterion'],\n",
    "    max_depth=grid_base_params['max_depth'],\n",
    "    min_samples_split=grid_base_params['min_samples_split'],\n",
    "    min_samples_leaf=grid_base_params['min_samples_leaf'],\n",
    "    max_leaf_nodes=grid_base_params['max_leaf_nodes'],\n",
    "    ccp_alpha=grid_base_params['ccp_alpha'],\n",
    "    random_state=42\n",
    ")\n",
    "grid_search = GridSearchCV(estimator=et_model, param_grid=param_grid_et, scoring=\"accuracy\", n_jobs=-1, cv=5, verbose=1)\n",
    "grid_search.fit(X_train, y_train)\n",
    "print(\"Best Parameters found:\")\n",
    "print(grid_search.best_params_)\n",
    "print(\"Best Accuracy Score:\")\n",
    "print(grid_search.best_score_)"
   ]
  },
  {
   "cell_type": "code",
   "execution_count": 38,
   "id": "a6e5861e",
   "metadata": {
    "execution": {
     "iopub.execute_input": "2025-01-09T17:21:52.252793Z",
     "iopub.status.busy": "2025-01-09T17:21:52.252380Z",
     "iopub.status.idle": "2025-01-09T17:21:52.273732Z",
     "shell.execute_reply": "2025-01-09T17:21:52.272248Z"
    },
    "papermill": {
     "duration": 0.040112,
     "end_time": "2025-01-09T17:21:52.275392",
     "exception": false,
     "start_time": "2025-01-09T17:21:52.235280",
     "status": "completed"
    },
    "tags": []
   },
   "outputs": [
    {
     "name": "stdout",
     "output_type": "stream",
     "text": [
      "0.8044692737430168\n"
     ]
    }
   ],
   "source": [
    "pred = grid_search.predict(X_test)\n",
    "accuracy = accuracy_score(y_test, pred)\n",
    "print(accuracy)\n",
    "models_accuracy[\"ExtraTrees\"] = [grid_search.best_estimator_, accuracy]"
   ]
  },
  {
   "cell_type": "code",
   "execution_count": 39,
   "id": "774262fd",
   "metadata": {
    "execution": {
     "iopub.execute_input": "2025-01-09T17:21:52.309284Z",
     "iopub.status.busy": "2025-01-09T17:21:52.308840Z",
     "iopub.status.idle": "2025-01-09T17:21:52.658635Z",
     "shell.execute_reply": "2025-01-09T17:21:52.657132Z"
    },
    "papermill": {
     "duration": 0.369433,
     "end_time": "2025-01-09T17:21:52.660894",
     "exception": false,
     "start_time": "2025-01-09T17:21:52.291461",
     "status": "completed"
    },
    "tags": []
   },
   "outputs": [
    {
     "name": "stdout",
     "output_type": "stream",
     "text": [
      "Fitting 5 folds for each of 12 candidates, totalling 60 fits\n",
      "Best Parameters found:\n",
      "{'C': 0.1, 'penalty': 'l2', 'solver': 'liblinear'}\n",
      "Best Accuracy Score:\n",
      "0.8005220131980696\n"
     ]
    }
   ],
   "source": [
    "from sklearn.linear_model import LogisticRegression\n",
    "log_reg = LogisticRegression(solver='liblinear')\n",
    "param_grid = {\n",
    "    'penalty': ['l1', 'l2'],\n",
    "    'C': [0.1, 1, 10],\n",
    "    'solver': ['liblinear', 'saga']\n",
    "}\n",
    "grid_search = GridSearchCV(estimator=log_reg, param_grid=param_grid, scoring='accuracy', cv=5, verbose=1, n_jobs=-1)\n",
    "grid_search.fit(X_train, y_train)\n",
    "print(\"Best Parameters found:\")\n",
    "print(grid_search.best_params_)\n",
    "print(\"Best Accuracy Score:\")\n",
    "print(grid_search.best_score_)"
   ]
  },
  {
   "cell_type": "code",
   "execution_count": 40,
   "id": "b0e70cb6",
   "metadata": {
    "execution": {
     "iopub.execute_input": "2025-01-09T17:21:52.698137Z",
     "iopub.status.busy": "2025-01-09T17:21:52.697776Z",
     "iopub.status.idle": "2025-01-09T17:21:52.707023Z",
     "shell.execute_reply": "2025-01-09T17:21:52.705858Z"
    },
    "papermill": {
     "duration": 0.030014,
     "end_time": "2025-01-09T17:21:52.709261",
     "exception": false,
     "start_time": "2025-01-09T17:21:52.679247",
     "status": "completed"
    },
    "tags": []
   },
   "outputs": [
    {
     "name": "stdout",
     "output_type": "stream",
     "text": [
      "0.7988826815642458\n"
     ]
    }
   ],
   "source": [
    "pred = grid_search.predict(X_test)\n",
    "accuracy = accuracy_score(y_test, pred)\n",
    "print(accuracy)\n",
    "\n",
    "models_accuracy[\"LogisticRegression\"] = [grid_search.best_estimator_, accuracy]"
   ]
  },
  {
   "cell_type": "code",
   "execution_count": 41,
   "id": "bf518871",
   "metadata": {
    "execution": {
     "iopub.execute_input": "2025-01-09T17:21:52.744503Z",
     "iopub.status.busy": "2025-01-09T17:21:52.744160Z",
     "iopub.status.idle": "2025-01-09T17:21:54.914792Z",
     "shell.execute_reply": "2025-01-09T17:21:54.912854Z"
    },
    "papermill": {
     "duration": 2.190094,
     "end_time": "2025-01-09T17:21:54.916959",
     "exception": false,
     "start_time": "2025-01-09T17:21:52.726865",
     "status": "completed"
    },
    "tags": []
   },
   "outputs": [
    {
     "name": "stdout",
     "output_type": "stream",
     "text": [
      "Fitting 5 folds for each of 96 candidates, totalling 480 fits\n",
      "Best Parameters found:\n",
      "{'algorithm': 'auto', 'metric': 'manhattan', 'n_neighbors': 5, 'weights': 'distance'}\n",
      "Best Accuracy Score:\n",
      "0.7416330148724515\n",
      "CPU times: user 348 ms, sys: 15.1 ms, total: 363 ms\n",
      "Wall time: 2.16 s\n"
     ]
    }
   ],
   "source": [
    "%%time\n",
    "from sklearn.neighbors import KNeighborsClassifier\n",
    "knn = KNeighborsClassifier()\n",
    "\n",
    "param_grid = {\n",
    "    'n_neighbors': [3, 5, 7, 9],\n",
    "    'weights': ['uniform', 'distance'],\n",
    "    'metric': ['euclidean', 'manhattan', 'chebyshev'],\n",
    "    'algorithm': ['auto', 'ball_tree', 'kd_tree', 'brute']\n",
    "}\n",
    "\n",
    "grid_search = GridSearchCV(estimator=knn, param_grid=param_grid, scoring='accuracy', cv=5, verbose=1, n_jobs=-1)\n",
    "grid_search.fit(X_train, y_train)\n",
    "print(\"Best Parameters found:\")\n",
    "print(grid_search.best_params_)\n",
    "print(\"Best Accuracy Score:\")\n",
    "print(grid_search.best_score_)"
   ]
  },
  {
   "cell_type": "code",
   "execution_count": 42,
   "id": "f493b450",
   "metadata": {
    "execution": {
     "iopub.execute_input": "2025-01-09T17:21:54.952842Z",
     "iopub.status.busy": "2025-01-09T17:21:54.952417Z",
     "iopub.status.idle": "2025-01-09T17:21:54.962629Z",
     "shell.execute_reply": "2025-01-09T17:21:54.961162Z"
    },
    "papermill": {
     "duration": 0.030508,
     "end_time": "2025-01-09T17:21:54.964761",
     "exception": false,
     "start_time": "2025-01-09T17:21:54.934253",
     "status": "completed"
    },
    "tags": []
   },
   "outputs": [
    {
     "name": "stdout",
     "output_type": "stream",
     "text": [
      "0.7262569832402235\n"
     ]
    }
   ],
   "source": [
    "pred = grid_search.predict(X_test)\n",
    "accuracy = accuracy_score(y_test, pred)\n",
    "print(accuracy)\n",
    "\n",
    "models_accuracy[\"KNeighbors\"] = [grid_search.best_estimator_, accuracy]"
   ]
  },
  {
   "cell_type": "code",
   "execution_count": 43,
   "id": "9a46f358",
   "metadata": {
    "execution": {
     "iopub.execute_input": "2025-01-09T17:21:54.999904Z",
     "iopub.status.busy": "2025-01-09T17:21:54.999510Z",
     "iopub.status.idle": "2025-01-09T17:21:55.012670Z",
     "shell.execute_reply": "2025-01-09T17:21:55.011464Z"
    },
    "papermill": {
     "duration": 0.032797,
     "end_time": "2025-01-09T17:21:55.014517",
     "exception": false,
     "start_time": "2025-01-09T17:21:54.981720",
     "status": "completed"
    },
    "tags": []
   },
   "outputs": [
    {
     "data": {
      "text/plain": [
       "{'DecisionTree': [DecisionTreeClassifier(ccp_alpha=4e-05, max_depth=6, max_leaf_nodes=80,\n",
       "                         min_samples_split=14, random_state=42,\n",
       "                         splitter='random'),\n",
       "  0.776536312849162],\n",
       " 'Bagging': [BaggingClassifier(estimator=DecisionTreeClassifier(ccp_alpha=4e-05, max_depth=6,\n",
       "                                                     max_leaf_nodes=80,\n",
       "                                                     min_samples_split=14,\n",
       "                                                     random_state=42,\n",
       "                                                     splitter='random'),\n",
       "                    n_estimators=100, random_state=42),\n",
       "  0.8100558659217877],\n",
       " 'RandomForest': [RandomForestClassifier(ccp_alpha=4e-05, max_depth=6, max_features=0.7,\n",
       "                         max_leaf_nodes=80, max_samples=0.7, min_samples_split=14,\n",
       "                         random_state=42),\n",
       "  0.7988826815642458],\n",
       " 'ExtraTrees': [ExtraTreesClassifier(ccp_alpha=4e-05, max_depth=6, max_features=None,\n",
       "                       max_leaf_nodes=80, min_samples_split=14, n_estimators=150,\n",
       "                       random_state=42),\n",
       "  0.8044692737430168],\n",
       " 'LogisticRegression': [LogisticRegression(C=0.1, solver='liblinear'),\n",
       "  0.7988826815642458],\n",
       " 'KNeighbors': [KNeighborsClassifier(metric='manhattan', weights='distance'),\n",
       "  0.7262569832402235]}"
      ]
     },
     "execution_count": 43,
     "metadata": {},
     "output_type": "execute_result"
    }
   ],
   "source": [
    "models_accuracy"
   ]
  },
  {
   "cell_type": "code",
   "execution_count": 44,
   "id": "b8da7869",
   "metadata": {
    "execution": {
     "iopub.execute_input": "2025-01-09T17:21:55.048993Z",
     "iopub.status.busy": "2025-01-09T17:21:55.048577Z",
     "iopub.status.idle": "2025-01-09T17:21:55.057072Z",
     "shell.execute_reply": "2025-01-09T17:21:55.055870Z"
    },
    "papermill": {
     "duration": 0.02747,
     "end_time": "2025-01-09T17:21:55.058770",
     "exception": false,
     "start_time": "2025-01-09T17:21:55.031300",
     "status": "completed"
    },
    "tags": []
   },
   "outputs": [
    {
     "data": {
      "text/plain": [
       "('Bagging',\n",
       " [BaggingClassifier(estimator=DecisionTreeClassifier(ccp_alpha=4e-05, max_depth=6,\n",
       "                                                     max_leaf_nodes=80,\n",
       "                                                     min_samples_split=14,\n",
       "                                                     random_state=42,\n",
       "                                                     splitter='random'),\n",
       "                    n_estimators=100, random_state=42),\n",
       "  0.8100558659217877])"
      ]
     },
     "execution_count": 44,
     "metadata": {},
     "output_type": "execute_result"
    }
   ],
   "source": [
    "max(models_accuracy.items(), key = lambda x : x[1][1])"
   ]
  },
  {
   "cell_type": "code",
   "execution_count": 45,
   "id": "f154b451",
   "metadata": {
    "execution": {
     "iopub.execute_input": "2025-01-09T17:21:55.094134Z",
     "iopub.status.busy": "2025-01-09T17:21:55.093629Z",
     "iopub.status.idle": "2025-01-09T17:21:55.099141Z",
     "shell.execute_reply": "2025-01-09T17:21:55.097775Z"
    },
    "papermill": {
     "duration": 0.025985,
     "end_time": "2025-01-09T17:21:55.101254",
     "exception": false,
     "start_time": "2025-01-09T17:21:55.075269",
     "status": "completed"
    },
    "tags": []
   },
   "outputs": [],
   "source": [
    "best_model = max(models_accuracy.items(), key = lambda x : x[1][1])[1][0]"
   ]
  },
  {
   "cell_type": "code",
   "execution_count": 46,
   "id": "c75607a9",
   "metadata": {
    "execution": {
     "iopub.execute_input": "2025-01-09T17:21:55.136406Z",
     "iopub.status.busy": "2025-01-09T17:21:55.135802Z",
     "iopub.status.idle": "2025-01-09T17:21:55.153801Z",
     "shell.execute_reply": "2025-01-09T17:21:55.152578Z"
    },
    "papermill": {
     "duration": 0.037695,
     "end_time": "2025-01-09T17:21:55.155905",
     "exception": false,
     "start_time": "2025-01-09T17:21:55.118210",
     "status": "completed"
    },
    "tags": []
   },
   "outputs": [
    {
     "data": {
      "text/html": [
       "<div>\n",
       "<style scoped>\n",
       "    .dataframe tbody tr th:only-of-type {\n",
       "        vertical-align: middle;\n",
       "    }\n",
       "\n",
       "    .dataframe tbody tr th {\n",
       "        vertical-align: top;\n",
       "    }\n",
       "\n",
       "    .dataframe thead th {\n",
       "        text-align: right;\n",
       "    }\n",
       "</style>\n",
       "<table border=\"1\" class=\"dataframe\">\n",
       "  <thead>\n",
       "    <tr style=\"text-align: right;\">\n",
       "      <th></th>\n",
       "      <th>Survived</th>\n",
       "      <th>Pclass</th>\n",
       "      <th>Sex</th>\n",
       "      <th>Age</th>\n",
       "      <th>SibSp</th>\n",
       "      <th>Parch</th>\n",
       "      <th>Fare</th>\n",
       "      <th>Embarked</th>\n",
       "    </tr>\n",
       "    <tr>\n",
       "      <th>PassengerId</th>\n",
       "      <th></th>\n",
       "      <th></th>\n",
       "      <th></th>\n",
       "      <th></th>\n",
       "      <th></th>\n",
       "      <th></th>\n",
       "      <th></th>\n",
       "      <th></th>\n",
       "    </tr>\n",
       "  </thead>\n",
       "  <tbody>\n",
       "    <tr>\n",
       "      <th>1</th>\n",
       "      <td>0</td>\n",
       "      <td>3</td>\n",
       "      <td>0</td>\n",
       "      <td>22.0</td>\n",
       "      <td>1</td>\n",
       "      <td>0</td>\n",
       "      <td>7.2500</td>\n",
       "      <td>0</td>\n",
       "    </tr>\n",
       "    <tr>\n",
       "      <th>2</th>\n",
       "      <td>1</td>\n",
       "      <td>1</td>\n",
       "      <td>1</td>\n",
       "      <td>38.0</td>\n",
       "      <td>1</td>\n",
       "      <td>0</td>\n",
       "      <td>71.2833</td>\n",
       "      <td>1</td>\n",
       "    </tr>\n",
       "    <tr>\n",
       "      <th>3</th>\n",
       "      <td>1</td>\n",
       "      <td>3</td>\n",
       "      <td>1</td>\n",
       "      <td>26.0</td>\n",
       "      <td>0</td>\n",
       "      <td>0</td>\n",
       "      <td>7.9250</td>\n",
       "      <td>0</td>\n",
       "    </tr>\n",
       "    <tr>\n",
       "      <th>4</th>\n",
       "      <td>1</td>\n",
       "      <td>1</td>\n",
       "      <td>1</td>\n",
       "      <td>35.0</td>\n",
       "      <td>1</td>\n",
       "      <td>0</td>\n",
       "      <td>53.1000</td>\n",
       "      <td>0</td>\n",
       "    </tr>\n",
       "    <tr>\n",
       "      <th>5</th>\n",
       "      <td>0</td>\n",
       "      <td>3</td>\n",
       "      <td>0</td>\n",
       "      <td>35.0</td>\n",
       "      <td>0</td>\n",
       "      <td>0</td>\n",
       "      <td>8.0500</td>\n",
       "      <td>0</td>\n",
       "    </tr>\n",
       "    <tr>\n",
       "      <th>...</th>\n",
       "      <td>...</td>\n",
       "      <td>...</td>\n",
       "      <td>...</td>\n",
       "      <td>...</td>\n",
       "      <td>...</td>\n",
       "      <td>...</td>\n",
       "      <td>...</td>\n",
       "      <td>...</td>\n",
       "    </tr>\n",
       "    <tr>\n",
       "      <th>887</th>\n",
       "      <td>0</td>\n",
       "      <td>2</td>\n",
       "      <td>0</td>\n",
       "      <td>27.0</td>\n",
       "      <td>0</td>\n",
       "      <td>0</td>\n",
       "      <td>13.0000</td>\n",
       "      <td>0</td>\n",
       "    </tr>\n",
       "    <tr>\n",
       "      <th>888</th>\n",
       "      <td>1</td>\n",
       "      <td>1</td>\n",
       "      <td>1</td>\n",
       "      <td>19.0</td>\n",
       "      <td>0</td>\n",
       "      <td>0</td>\n",
       "      <td>30.0000</td>\n",
       "      <td>0</td>\n",
       "    </tr>\n",
       "    <tr>\n",
       "      <th>889</th>\n",
       "      <td>0</td>\n",
       "      <td>3</td>\n",
       "      <td>1</td>\n",
       "      <td>28.0</td>\n",
       "      <td>1</td>\n",
       "      <td>2</td>\n",
       "      <td>23.4500</td>\n",
       "      <td>0</td>\n",
       "    </tr>\n",
       "    <tr>\n",
       "      <th>890</th>\n",
       "      <td>1</td>\n",
       "      <td>1</td>\n",
       "      <td>0</td>\n",
       "      <td>26.0</td>\n",
       "      <td>0</td>\n",
       "      <td>0</td>\n",
       "      <td>30.0000</td>\n",
       "      <td>1</td>\n",
       "    </tr>\n",
       "    <tr>\n",
       "      <th>891</th>\n",
       "      <td>0</td>\n",
       "      <td>3</td>\n",
       "      <td>0</td>\n",
       "      <td>32.0</td>\n",
       "      <td>0</td>\n",
       "      <td>0</td>\n",
       "      <td>7.7500</td>\n",
       "      <td>2</td>\n",
       "    </tr>\n",
       "  </tbody>\n",
       "</table>\n",
       "<p>891 rows × 8 columns</p>\n",
       "</div>"
      ],
      "text/plain": [
       "             Survived  Pclass  Sex   Age  SibSp  Parch     Fare  Embarked\n",
       "PassengerId                                                              \n",
       "1                   0       3    0  22.0      1      0   7.2500         0\n",
       "2                   1       1    1  38.0      1      0  71.2833         1\n",
       "3                   1       3    1  26.0      0      0   7.9250         0\n",
       "4                   1       1    1  35.0      1      0  53.1000         0\n",
       "5                   0       3    0  35.0      0      0   8.0500         0\n",
       "...               ...     ...  ...   ...    ...    ...      ...       ...\n",
       "887                 0       2    0  27.0      0      0  13.0000         0\n",
       "888                 1       1    1  19.0      0      0  30.0000         0\n",
       "889                 0       3    1  28.0      1      2  23.4500         0\n",
       "890                 1       1    0  26.0      0      0  30.0000         1\n",
       "891                 0       3    0  32.0      0      0   7.7500         2\n",
       "\n",
       "[891 rows x 8 columns]"
      ]
     },
     "execution_count": 46,
     "metadata": {},
     "output_type": "execute_result"
    }
   ],
   "source": [
    "train_df"
   ]
  },
  {
   "cell_type": "code",
   "execution_count": 47,
   "id": "089b134b",
   "metadata": {
    "execution": {
     "iopub.execute_input": "2025-01-09T17:21:55.252381Z",
     "iopub.status.busy": "2025-01-09T17:21:55.251965Z",
     "iopub.status.idle": "2025-01-09T17:21:55.270348Z",
     "shell.execute_reply": "2025-01-09T17:21:55.269230Z"
    },
    "papermill": {
     "duration": 0.038891,
     "end_time": "2025-01-09T17:21:55.272248",
     "exception": false,
     "start_time": "2025-01-09T17:21:55.233357",
     "status": "completed"
    },
    "tags": []
   },
   "outputs": [
    {
     "data": {
      "text/html": [
       "<div>\n",
       "<style scoped>\n",
       "    .dataframe tbody tr th:only-of-type {\n",
       "        vertical-align: middle;\n",
       "    }\n",
       "\n",
       "    .dataframe tbody tr th {\n",
       "        vertical-align: top;\n",
       "    }\n",
       "\n",
       "    .dataframe thead th {\n",
       "        text-align: right;\n",
       "    }\n",
       "</style>\n",
       "<table border=\"1\" class=\"dataframe\">\n",
       "  <thead>\n",
       "    <tr style=\"text-align: right;\">\n",
       "      <th></th>\n",
       "      <th>PassengerId</th>\n",
       "      <th>Pclass</th>\n",
       "      <th>Name</th>\n",
       "      <th>Sex</th>\n",
       "      <th>Age</th>\n",
       "      <th>SibSp</th>\n",
       "      <th>Parch</th>\n",
       "      <th>Ticket</th>\n",
       "      <th>Fare</th>\n",
       "      <th>Cabin</th>\n",
       "      <th>Embarked</th>\n",
       "    </tr>\n",
       "  </thead>\n",
       "  <tbody>\n",
       "    <tr>\n",
       "      <th>0</th>\n",
       "      <td>892</td>\n",
       "      <td>3</td>\n",
       "      <td>Kelly, Mr. James</td>\n",
       "      <td>male</td>\n",
       "      <td>34.5</td>\n",
       "      <td>0</td>\n",
       "      <td>0</td>\n",
       "      <td>330911</td>\n",
       "      <td>7.8292</td>\n",
       "      <td>NaN</td>\n",
       "      <td>Q</td>\n",
       "    </tr>\n",
       "    <tr>\n",
       "      <th>1</th>\n",
       "      <td>893</td>\n",
       "      <td>3</td>\n",
       "      <td>Wilkes, Mrs. James (Ellen Needs)</td>\n",
       "      <td>female</td>\n",
       "      <td>47.0</td>\n",
       "      <td>1</td>\n",
       "      <td>0</td>\n",
       "      <td>363272</td>\n",
       "      <td>7.0000</td>\n",
       "      <td>NaN</td>\n",
       "      <td>S</td>\n",
       "    </tr>\n",
       "    <tr>\n",
       "      <th>2</th>\n",
       "      <td>894</td>\n",
       "      <td>2</td>\n",
       "      <td>Myles, Mr. Thomas Francis</td>\n",
       "      <td>male</td>\n",
       "      <td>62.0</td>\n",
       "      <td>0</td>\n",
       "      <td>0</td>\n",
       "      <td>240276</td>\n",
       "      <td>9.6875</td>\n",
       "      <td>NaN</td>\n",
       "      <td>Q</td>\n",
       "    </tr>\n",
       "    <tr>\n",
       "      <th>3</th>\n",
       "      <td>895</td>\n",
       "      <td>3</td>\n",
       "      <td>Wirz, Mr. Albert</td>\n",
       "      <td>male</td>\n",
       "      <td>27.0</td>\n",
       "      <td>0</td>\n",
       "      <td>0</td>\n",
       "      <td>315154</td>\n",
       "      <td>8.6625</td>\n",
       "      <td>NaN</td>\n",
       "      <td>S</td>\n",
       "    </tr>\n",
       "    <tr>\n",
       "      <th>4</th>\n",
       "      <td>896</td>\n",
       "      <td>3</td>\n",
       "      <td>Hirvonen, Mrs. Alexander (Helga E Lindqvist)</td>\n",
       "      <td>female</td>\n",
       "      <td>22.0</td>\n",
       "      <td>1</td>\n",
       "      <td>1</td>\n",
       "      <td>3101298</td>\n",
       "      <td>12.2875</td>\n",
       "      <td>NaN</td>\n",
       "      <td>S</td>\n",
       "    </tr>\n",
       "    <tr>\n",
       "      <th>...</th>\n",
       "      <td>...</td>\n",
       "      <td>...</td>\n",
       "      <td>...</td>\n",
       "      <td>...</td>\n",
       "      <td>...</td>\n",
       "      <td>...</td>\n",
       "      <td>...</td>\n",
       "      <td>...</td>\n",
       "      <td>...</td>\n",
       "      <td>...</td>\n",
       "      <td>...</td>\n",
       "    </tr>\n",
       "    <tr>\n",
       "      <th>413</th>\n",
       "      <td>1305</td>\n",
       "      <td>3</td>\n",
       "      <td>Spector, Mr. Woolf</td>\n",
       "      <td>male</td>\n",
       "      <td>NaN</td>\n",
       "      <td>0</td>\n",
       "      <td>0</td>\n",
       "      <td>A.5. 3236</td>\n",
       "      <td>8.0500</td>\n",
       "      <td>NaN</td>\n",
       "      <td>S</td>\n",
       "    </tr>\n",
       "    <tr>\n",
       "      <th>414</th>\n",
       "      <td>1306</td>\n",
       "      <td>1</td>\n",
       "      <td>Oliva y Ocana, Dona. Fermina</td>\n",
       "      <td>female</td>\n",
       "      <td>39.0</td>\n",
       "      <td>0</td>\n",
       "      <td>0</td>\n",
       "      <td>PC 17758</td>\n",
       "      <td>108.9000</td>\n",
       "      <td>C105</td>\n",
       "      <td>C</td>\n",
       "    </tr>\n",
       "    <tr>\n",
       "      <th>415</th>\n",
       "      <td>1307</td>\n",
       "      <td>3</td>\n",
       "      <td>Saether, Mr. Simon Sivertsen</td>\n",
       "      <td>male</td>\n",
       "      <td>38.5</td>\n",
       "      <td>0</td>\n",
       "      <td>0</td>\n",
       "      <td>SOTON/O.Q. 3101262</td>\n",
       "      <td>7.2500</td>\n",
       "      <td>NaN</td>\n",
       "      <td>S</td>\n",
       "    </tr>\n",
       "    <tr>\n",
       "      <th>416</th>\n",
       "      <td>1308</td>\n",
       "      <td>3</td>\n",
       "      <td>Ware, Mr. Frederick</td>\n",
       "      <td>male</td>\n",
       "      <td>NaN</td>\n",
       "      <td>0</td>\n",
       "      <td>0</td>\n",
       "      <td>359309</td>\n",
       "      <td>8.0500</td>\n",
       "      <td>NaN</td>\n",
       "      <td>S</td>\n",
       "    </tr>\n",
       "    <tr>\n",
       "      <th>417</th>\n",
       "      <td>1309</td>\n",
       "      <td>3</td>\n",
       "      <td>Peter, Master. Michael J</td>\n",
       "      <td>male</td>\n",
       "      <td>NaN</td>\n",
       "      <td>1</td>\n",
       "      <td>1</td>\n",
       "      <td>2668</td>\n",
       "      <td>22.3583</td>\n",
       "      <td>NaN</td>\n",
       "      <td>C</td>\n",
       "    </tr>\n",
       "  </tbody>\n",
       "</table>\n",
       "<p>418 rows × 11 columns</p>\n",
       "</div>"
      ],
      "text/plain": [
       "     PassengerId  Pclass                                          Name  \\\n",
       "0            892       3                              Kelly, Mr. James   \n",
       "1            893       3              Wilkes, Mrs. James (Ellen Needs)   \n",
       "2            894       2                     Myles, Mr. Thomas Francis   \n",
       "3            895       3                              Wirz, Mr. Albert   \n",
       "4            896       3  Hirvonen, Mrs. Alexander (Helga E Lindqvist)   \n",
       "..           ...     ...                                           ...   \n",
       "413         1305       3                            Spector, Mr. Woolf   \n",
       "414         1306       1                  Oliva y Ocana, Dona. Fermina   \n",
       "415         1307       3                  Saether, Mr. Simon Sivertsen   \n",
       "416         1308       3                           Ware, Mr. Frederick   \n",
       "417         1309       3                      Peter, Master. Michael J   \n",
       "\n",
       "        Sex   Age  SibSp  Parch              Ticket      Fare Cabin Embarked  \n",
       "0      male  34.5      0      0              330911    7.8292   NaN        Q  \n",
       "1    female  47.0      1      0              363272    7.0000   NaN        S  \n",
       "2      male  62.0      0      0              240276    9.6875   NaN        Q  \n",
       "3      male  27.0      0      0              315154    8.6625   NaN        S  \n",
       "4    female  22.0      1      1             3101298   12.2875   NaN        S  \n",
       "..      ...   ...    ...    ...                 ...       ...   ...      ...  \n",
       "413    male   NaN      0      0           A.5. 3236    8.0500   NaN        S  \n",
       "414  female  39.0      0      0            PC 17758  108.9000  C105        C  \n",
       "415    male  38.5      0      0  SOTON/O.Q. 3101262    7.2500   NaN        S  \n",
       "416    male   NaN      0      0              359309    8.0500   NaN        S  \n",
       "417    male   NaN      1      1                2668   22.3583   NaN        C  \n",
       "\n",
       "[418 rows x 11 columns]"
      ]
     },
     "execution_count": 47,
     "metadata": {},
     "output_type": "execute_result"
    }
   ],
   "source": [
    "test_df"
   ]
  },
  {
   "cell_type": "code",
   "execution_count": 48,
   "id": "afd04840",
   "metadata": {
    "execution": {
     "iopub.execute_input": "2025-01-09T17:21:55.309147Z",
     "iopub.status.busy": "2025-01-09T17:21:55.308666Z",
     "iopub.status.idle": "2025-01-09T17:21:55.324416Z",
     "shell.execute_reply": "2025-01-09T17:21:55.323151Z"
    },
    "papermill": {
     "duration": 0.036545,
     "end_time": "2025-01-09T17:21:55.326295",
     "exception": false,
     "start_time": "2025-01-09T17:21:55.289750",
     "status": "completed"
    },
    "tags": []
   },
   "outputs": [],
   "source": [
    "test_df = test_df.drop(\"Cabin\", axis=1)\n",
    "test_df.drop(\"Name\", axis=1, inplace=True)\n",
    "test_df.drop(\"Ticket\", axis=1, inplace=True)\n",
    "test_df.set_index(\"PassengerId\", inplace=True)\n",
    "test_df['Age'].fillna(test_df['Age'].median(), inplace=True)\n",
    "test_df[\"Embarked\"].fillna(test_df[\"Embarked\"].mode()[0], inplace=True)\n",
    "test_df['Fare'].fillna(test_df['Fare'].median(), inplace=True)\n",
    "test_df['Sex'] = test_df['Sex'].map({'male': 0, 'female': 1})\n",
    "test_df['Embarked'] = test_df['Embarked'].map({'S': 0, 'C': 1, 'Q': 2})"
   ]
  },
  {
   "cell_type": "code",
   "execution_count": 49,
   "id": "ec9f8e06",
   "metadata": {
    "execution": {
     "iopub.execute_input": "2025-01-09T17:21:55.363551Z",
     "iopub.status.busy": "2025-01-09T17:21:55.363090Z",
     "iopub.status.idle": "2025-01-09T17:21:55.378823Z",
     "shell.execute_reply": "2025-01-09T17:21:55.377669Z"
    },
    "papermill": {
     "duration": 0.036773,
     "end_time": "2025-01-09T17:21:55.380624",
     "exception": false,
     "start_time": "2025-01-09T17:21:55.343851",
     "status": "completed"
    },
    "tags": []
   },
   "outputs": [
    {
     "data": {
      "text/html": [
       "<div>\n",
       "<style scoped>\n",
       "    .dataframe tbody tr th:only-of-type {\n",
       "        vertical-align: middle;\n",
       "    }\n",
       "\n",
       "    .dataframe tbody tr th {\n",
       "        vertical-align: top;\n",
       "    }\n",
       "\n",
       "    .dataframe thead th {\n",
       "        text-align: right;\n",
       "    }\n",
       "</style>\n",
       "<table border=\"1\" class=\"dataframe\">\n",
       "  <thead>\n",
       "    <tr style=\"text-align: right;\">\n",
       "      <th></th>\n",
       "      <th>Pclass</th>\n",
       "      <th>Sex</th>\n",
       "      <th>Age</th>\n",
       "      <th>SibSp</th>\n",
       "      <th>Parch</th>\n",
       "      <th>Fare</th>\n",
       "      <th>Embarked</th>\n",
       "    </tr>\n",
       "    <tr>\n",
       "      <th>PassengerId</th>\n",
       "      <th></th>\n",
       "      <th></th>\n",
       "      <th></th>\n",
       "      <th></th>\n",
       "      <th></th>\n",
       "      <th></th>\n",
       "      <th></th>\n",
       "    </tr>\n",
       "  </thead>\n",
       "  <tbody>\n",
       "    <tr>\n",
       "      <th>892</th>\n",
       "      <td>3</td>\n",
       "      <td>0</td>\n",
       "      <td>34.5</td>\n",
       "      <td>0</td>\n",
       "      <td>0</td>\n",
       "      <td>7.8292</td>\n",
       "      <td>2</td>\n",
       "    </tr>\n",
       "    <tr>\n",
       "      <th>893</th>\n",
       "      <td>3</td>\n",
       "      <td>1</td>\n",
       "      <td>47.0</td>\n",
       "      <td>1</td>\n",
       "      <td>0</td>\n",
       "      <td>7.0000</td>\n",
       "      <td>0</td>\n",
       "    </tr>\n",
       "    <tr>\n",
       "      <th>894</th>\n",
       "      <td>2</td>\n",
       "      <td>0</td>\n",
       "      <td>62.0</td>\n",
       "      <td>0</td>\n",
       "      <td>0</td>\n",
       "      <td>9.6875</td>\n",
       "      <td>2</td>\n",
       "    </tr>\n",
       "    <tr>\n",
       "      <th>895</th>\n",
       "      <td>3</td>\n",
       "      <td>0</td>\n",
       "      <td>27.0</td>\n",
       "      <td>0</td>\n",
       "      <td>0</td>\n",
       "      <td>8.6625</td>\n",
       "      <td>0</td>\n",
       "    </tr>\n",
       "    <tr>\n",
       "      <th>896</th>\n",
       "      <td>3</td>\n",
       "      <td>1</td>\n",
       "      <td>22.0</td>\n",
       "      <td>1</td>\n",
       "      <td>1</td>\n",
       "      <td>12.2875</td>\n",
       "      <td>0</td>\n",
       "    </tr>\n",
       "    <tr>\n",
       "      <th>...</th>\n",
       "      <td>...</td>\n",
       "      <td>...</td>\n",
       "      <td>...</td>\n",
       "      <td>...</td>\n",
       "      <td>...</td>\n",
       "      <td>...</td>\n",
       "      <td>...</td>\n",
       "    </tr>\n",
       "    <tr>\n",
       "      <th>1305</th>\n",
       "      <td>3</td>\n",
       "      <td>0</td>\n",
       "      <td>27.0</td>\n",
       "      <td>0</td>\n",
       "      <td>0</td>\n",
       "      <td>8.0500</td>\n",
       "      <td>0</td>\n",
       "    </tr>\n",
       "    <tr>\n",
       "      <th>1306</th>\n",
       "      <td>1</td>\n",
       "      <td>1</td>\n",
       "      <td>39.0</td>\n",
       "      <td>0</td>\n",
       "      <td>0</td>\n",
       "      <td>108.9000</td>\n",
       "      <td>1</td>\n",
       "    </tr>\n",
       "    <tr>\n",
       "      <th>1307</th>\n",
       "      <td>3</td>\n",
       "      <td>0</td>\n",
       "      <td>38.5</td>\n",
       "      <td>0</td>\n",
       "      <td>0</td>\n",
       "      <td>7.2500</td>\n",
       "      <td>0</td>\n",
       "    </tr>\n",
       "    <tr>\n",
       "      <th>1308</th>\n",
       "      <td>3</td>\n",
       "      <td>0</td>\n",
       "      <td>27.0</td>\n",
       "      <td>0</td>\n",
       "      <td>0</td>\n",
       "      <td>8.0500</td>\n",
       "      <td>0</td>\n",
       "    </tr>\n",
       "    <tr>\n",
       "      <th>1309</th>\n",
       "      <td>3</td>\n",
       "      <td>0</td>\n",
       "      <td>27.0</td>\n",
       "      <td>1</td>\n",
       "      <td>1</td>\n",
       "      <td>22.3583</td>\n",
       "      <td>1</td>\n",
       "    </tr>\n",
       "  </tbody>\n",
       "</table>\n",
       "<p>418 rows × 7 columns</p>\n",
       "</div>"
      ],
      "text/plain": [
       "             Pclass  Sex   Age  SibSp  Parch      Fare  Embarked\n",
       "PassengerId                                                     \n",
       "892               3    0  34.5      0      0    7.8292         2\n",
       "893               3    1  47.0      1      0    7.0000         0\n",
       "894               2    0  62.0      0      0    9.6875         2\n",
       "895               3    0  27.0      0      0    8.6625         0\n",
       "896               3    1  22.0      1      1   12.2875         0\n",
       "...             ...  ...   ...    ...    ...       ...       ...\n",
       "1305              3    0  27.0      0      0    8.0500         0\n",
       "1306              1    1  39.0      0      0  108.9000         1\n",
       "1307              3    0  38.5      0      0    7.2500         0\n",
       "1308              3    0  27.0      0      0    8.0500         0\n",
       "1309              3    0  27.0      1      1   22.3583         1\n",
       "\n",
       "[418 rows x 7 columns]"
      ]
     },
     "execution_count": 49,
     "metadata": {},
     "output_type": "execute_result"
    }
   ],
   "source": [
    "test_df"
   ]
  },
  {
   "cell_type": "code",
   "execution_count": 50,
   "id": "78364bbf",
   "metadata": {
    "execution": {
     "iopub.execute_input": "2025-01-09T17:21:55.417607Z",
     "iopub.status.busy": "2025-01-09T17:21:55.417203Z",
     "iopub.status.idle": "2025-01-09T17:21:55.657060Z",
     "shell.execute_reply": "2025-01-09T17:21:55.655877Z"
    },
    "papermill": {
     "duration": 0.260737,
     "end_time": "2025-01-09T17:21:55.659159",
     "exception": false,
     "start_time": "2025-01-09T17:21:55.398422",
     "status": "completed"
    },
    "tags": []
   },
   "outputs": [
    {
     "data": {
      "text/html": [
       "<style>#sk-container-id-2 {color: black;background-color: white;}#sk-container-id-2 pre{padding: 0;}#sk-container-id-2 div.sk-toggleable {background-color: white;}#sk-container-id-2 label.sk-toggleable__label {cursor: pointer;display: block;width: 100%;margin-bottom: 0;padding: 0.3em;box-sizing: border-box;text-align: center;}#sk-container-id-2 label.sk-toggleable__label-arrow:before {content: \"▸\";float: left;margin-right: 0.25em;color: #696969;}#sk-container-id-2 label.sk-toggleable__label-arrow:hover:before {color: black;}#sk-container-id-2 div.sk-estimator:hover label.sk-toggleable__label-arrow:before {color: black;}#sk-container-id-2 div.sk-toggleable__content {max-height: 0;max-width: 0;overflow: hidden;text-align: left;background-color: #f0f8ff;}#sk-container-id-2 div.sk-toggleable__content pre {margin: 0.2em;color: black;border-radius: 0.25em;background-color: #f0f8ff;}#sk-container-id-2 input.sk-toggleable__control:checked~div.sk-toggleable__content {max-height: 200px;max-width: 100%;overflow: auto;}#sk-container-id-2 input.sk-toggleable__control:checked~label.sk-toggleable__label-arrow:before {content: \"▾\";}#sk-container-id-2 div.sk-estimator input.sk-toggleable__control:checked~label.sk-toggleable__label {background-color: #d4ebff;}#sk-container-id-2 div.sk-label input.sk-toggleable__control:checked~label.sk-toggleable__label {background-color: #d4ebff;}#sk-container-id-2 input.sk-hidden--visually {border: 0;clip: rect(1px 1px 1px 1px);clip: rect(1px, 1px, 1px, 1px);height: 1px;margin: -1px;overflow: hidden;padding: 0;position: absolute;width: 1px;}#sk-container-id-2 div.sk-estimator {font-family: monospace;background-color: #f0f8ff;border: 1px dotted black;border-radius: 0.25em;box-sizing: border-box;margin-bottom: 0.5em;}#sk-container-id-2 div.sk-estimator:hover {background-color: #d4ebff;}#sk-container-id-2 div.sk-parallel-item::after {content: \"\";width: 100%;border-bottom: 1px solid gray;flex-grow: 1;}#sk-container-id-2 div.sk-label:hover label.sk-toggleable__label {background-color: #d4ebff;}#sk-container-id-2 div.sk-serial::before {content: \"\";position: absolute;border-left: 1px solid gray;box-sizing: border-box;top: 0;bottom: 0;left: 50%;z-index: 0;}#sk-container-id-2 div.sk-serial {display: flex;flex-direction: column;align-items: center;background-color: white;padding-right: 0.2em;padding-left: 0.2em;position: relative;}#sk-container-id-2 div.sk-item {position: relative;z-index: 1;}#sk-container-id-2 div.sk-parallel {display: flex;align-items: stretch;justify-content: center;background-color: white;position: relative;}#sk-container-id-2 div.sk-item::before, #sk-container-id-2 div.sk-parallel-item::before {content: \"\";position: absolute;border-left: 1px solid gray;box-sizing: border-box;top: 0;bottom: 0;left: 50%;z-index: -1;}#sk-container-id-2 div.sk-parallel-item {display: flex;flex-direction: column;z-index: 1;position: relative;background-color: white;}#sk-container-id-2 div.sk-parallel-item:first-child::after {align-self: flex-end;width: 50%;}#sk-container-id-2 div.sk-parallel-item:last-child::after {align-self: flex-start;width: 50%;}#sk-container-id-2 div.sk-parallel-item:only-child::after {width: 0;}#sk-container-id-2 div.sk-dashed-wrapped {border: 1px dashed gray;margin: 0 0.4em 0.5em 0.4em;box-sizing: border-box;padding-bottom: 0.4em;background-color: white;}#sk-container-id-2 div.sk-label label {font-family: monospace;font-weight: bold;display: inline-block;line-height: 1.2em;}#sk-container-id-2 div.sk-label-container {text-align: center;}#sk-container-id-2 div.sk-container {/* jupyter's `normalize.less` sets `[hidden] { display: none; }` but bootstrap.min.css set `[hidden] { display: none !important; }` so we also need the `!important` here to be able to override the default hidden behavior on the sphinx rendered scikit-learn.org. See: https://github.com/scikit-learn/scikit-learn/issues/21755 */display: inline-block !important;position: relative;}#sk-container-id-2 div.sk-text-repr-fallback {display: none;}</style><div id=\"sk-container-id-2\" class=\"sk-top-container\"><div class=\"sk-text-repr-fallback\"><pre>BaggingClassifier(estimator=DecisionTreeClassifier(ccp_alpha=4e-05, max_depth=6,\n",
       "                                                   max_leaf_nodes=80,\n",
       "                                                   min_samples_split=14,\n",
       "                                                   random_state=42,\n",
       "                                                   splitter=&#x27;random&#x27;),\n",
       "                  n_estimators=100, random_state=42)</pre><b>In a Jupyter environment, please rerun this cell to show the HTML representation or trust the notebook. <br />On GitHub, the HTML representation is unable to render, please try loading this page with nbviewer.org.</b></div><div class=\"sk-container\" hidden><div class=\"sk-item sk-dashed-wrapped\"><div class=\"sk-label-container\"><div class=\"sk-label sk-toggleable\"><input class=\"sk-toggleable__control sk-hidden--visually\" id=\"sk-estimator-id-4\" type=\"checkbox\" ><label for=\"sk-estimator-id-4\" class=\"sk-toggleable__label sk-toggleable__label-arrow\">BaggingClassifier</label><div class=\"sk-toggleable__content\"><pre>BaggingClassifier(estimator=DecisionTreeClassifier(ccp_alpha=4e-05, max_depth=6,\n",
       "                                                   max_leaf_nodes=80,\n",
       "                                                   min_samples_split=14,\n",
       "                                                   random_state=42,\n",
       "                                                   splitter=&#x27;random&#x27;),\n",
       "                  n_estimators=100, random_state=42)</pre></div></div></div><div class=\"sk-parallel\"><div class=\"sk-parallel-item\"><div class=\"sk-item\"><div class=\"sk-label-container\"><div class=\"sk-label sk-toggleable\"><input class=\"sk-toggleable__control sk-hidden--visually\" id=\"sk-estimator-id-5\" type=\"checkbox\" ><label for=\"sk-estimator-id-5\" class=\"sk-toggleable__label sk-toggleable__label-arrow\">estimator: DecisionTreeClassifier</label><div class=\"sk-toggleable__content\"><pre>DecisionTreeClassifier(ccp_alpha=4e-05, max_depth=6, max_leaf_nodes=80,\n",
       "                       min_samples_split=14, random_state=42,\n",
       "                       splitter=&#x27;random&#x27;)</pre></div></div></div><div class=\"sk-serial\"><div class=\"sk-item\"><div class=\"sk-estimator sk-toggleable\"><input class=\"sk-toggleable__control sk-hidden--visually\" id=\"sk-estimator-id-6\" type=\"checkbox\" ><label for=\"sk-estimator-id-6\" class=\"sk-toggleable__label sk-toggleable__label-arrow\">DecisionTreeClassifier</label><div class=\"sk-toggleable__content\"><pre>DecisionTreeClassifier(ccp_alpha=4e-05, max_depth=6, max_leaf_nodes=80,\n",
       "                       min_samples_split=14, random_state=42,\n",
       "                       splitter=&#x27;random&#x27;)</pre></div></div></div></div></div></div></div></div></div></div>"
      ],
      "text/plain": [
       "BaggingClassifier(estimator=DecisionTreeClassifier(ccp_alpha=4e-05, max_depth=6,\n",
       "                                                   max_leaf_nodes=80,\n",
       "                                                   min_samples_split=14,\n",
       "                                                   random_state=42,\n",
       "                                                   splitter='random'),\n",
       "                  n_estimators=100, random_state=42)"
      ]
     },
     "execution_count": 50,
     "metadata": {},
     "output_type": "execute_result"
    }
   ],
   "source": [
    "best_model.fit(train_df.drop(\"Survived\", axis=1), train_df[\"Survived\"])"
   ]
  },
  {
   "cell_type": "code",
   "execution_count": 51,
   "id": "4ff66436",
   "metadata": {
    "execution": {
     "iopub.execute_input": "2025-01-09T17:21:55.697945Z",
     "iopub.status.busy": "2025-01-09T17:21:55.697495Z",
     "iopub.status.idle": "2025-01-09T17:21:55.721740Z",
     "shell.execute_reply": "2025-01-09T17:21:55.720535Z"
    },
    "papermill": {
     "duration": 0.046034,
     "end_time": "2025-01-09T17:21:55.723752",
     "exception": false,
     "start_time": "2025-01-09T17:21:55.677718",
     "status": "completed"
    },
    "tags": []
   },
   "outputs": [],
   "source": [
    "prediction = best_model.predict(test_df)"
   ]
  },
  {
   "cell_type": "code",
   "execution_count": 52,
   "id": "d6ac4da1",
   "metadata": {
    "execution": {
     "iopub.execute_input": "2025-01-09T17:21:55.761974Z",
     "iopub.status.busy": "2025-01-09T17:21:55.761545Z",
     "iopub.status.idle": "2025-01-09T17:21:55.771580Z",
     "shell.execute_reply": "2025-01-09T17:21:55.770258Z"
    },
    "papermill": {
     "duration": 0.031778,
     "end_time": "2025-01-09T17:21:55.773835",
     "exception": false,
     "start_time": "2025-01-09T17:21:55.742057",
     "status": "completed"
    },
    "tags": []
   },
   "outputs": [],
   "source": [
    "submission_df = pd.DataFrame({\n",
    "    'PassengerId': test_df.index,\n",
    "    'Survived': prediction\n",
    "})\n",
    "\n",
    "submission_df.to_csv('submission.csv', index=False)\n",
    "# 0,77272"
   ]
  },
  {
   "cell_type": "code",
   "execution_count": 53,
   "id": "2298dbf0",
   "metadata": {
    "execution": {
     "iopub.execute_input": "2025-01-09T17:21:55.813449Z",
     "iopub.status.busy": "2025-01-09T17:21:55.813079Z",
     "iopub.status.idle": "2025-01-09T17:21:55.818003Z",
     "shell.execute_reply": "2025-01-09T17:21:55.816618Z"
    },
    "papermill": {
     "duration": 0.026628,
     "end_time": "2025-01-09T17:21:55.819857",
     "exception": false,
     "start_time": "2025-01-09T17:21:55.793229",
     "status": "completed"
    },
    "tags": []
   },
   "outputs": [],
   "source": [
    "rf_model = models_accuracy[\"RandomForest\"][0]"
   ]
  },
  {
   "cell_type": "code",
   "execution_count": 54,
   "id": "bd2a6cfa",
   "metadata": {
    "execution": {
     "iopub.execute_input": "2025-01-09T17:21:55.858373Z",
     "iopub.status.busy": "2025-01-09T17:21:55.857904Z",
     "iopub.status.idle": "2025-01-09T17:21:55.875896Z",
     "shell.execute_reply": "2025-01-09T17:21:55.874752Z"
    },
    "papermill": {
     "duration": 0.039025,
     "end_time": "2025-01-09T17:21:55.877880",
     "exception": false,
     "start_time": "2025-01-09T17:21:55.838855",
     "status": "completed"
    },
    "tags": []
   },
   "outputs": [],
   "source": [
    "prediction = rf_model.predict(test_df)"
   ]
  },
  {
   "cell_type": "code",
   "execution_count": 55,
   "id": "08826869",
   "metadata": {
    "execution": {
     "iopub.execute_input": "2025-01-09T17:21:55.915499Z",
     "iopub.status.busy": "2025-01-09T17:21:55.915036Z",
     "iopub.status.idle": "2025-01-09T17:21:55.923164Z",
     "shell.execute_reply": "2025-01-09T17:21:55.921909Z"
    },
    "papermill": {
     "duration": 0.029201,
     "end_time": "2025-01-09T17:21:55.925201",
     "exception": false,
     "start_time": "2025-01-09T17:21:55.896000",
     "status": "completed"
    },
    "tags": []
   },
   "outputs": [],
   "source": [
    "submission_df = pd.DataFrame({\n",
    "    'PassengerId': test_df.index,\n",
    "    'Survived': prediction\n",
    "})\n",
    "\n",
    "submission_df.to_csv('submission.csv', index=False)\n",
    "# 0.77990"
   ]
  },
  {
   "cell_type": "code",
   "execution_count": 56,
   "id": "c633d035",
   "metadata": {
    "execution": {
     "iopub.execute_input": "2025-01-09T17:21:55.963876Z",
     "iopub.status.busy": "2025-01-09T17:21:55.963365Z",
     "iopub.status.idle": "2025-01-09T17:21:55.989141Z",
     "shell.execute_reply": "2025-01-09T17:21:55.987871Z"
    },
    "papermill": {
     "duration": 0.047263,
     "end_time": "2025-01-09T17:21:55.991286",
     "exception": false,
     "start_time": "2025-01-09T17:21:55.944023",
     "status": "completed"
    },
    "tags": []
   },
   "outputs": [],
   "source": [
    "et_model = models_accuracy[\"ExtraTrees\"][0]\n",
    "prediction = et_model.predict(test_df)\n",
    "submission_df = pd.DataFrame({\n",
    "    'PassengerId': test_df.index,\n",
    "    'Survived': prediction\n",
    "})\n",
    "\n",
    "submission_df.to_csv('submission.csv', index=False)\n",
    "# 0.78229"
   ]
  },
  {
   "cell_type": "markdown",
   "id": "4a2fcaa2",
   "metadata": {
    "execution": {
     "iopub.execute_input": "2025-01-09T16:53:25.749844Z",
     "iopub.status.busy": "2025-01-09T16:53:25.749419Z",
     "iopub.status.idle": "2025-01-09T16:53:25.754059Z",
     "shell.execute_reply": "2025-01-09T16:53:25.752941Z",
     "shell.execute_reply.started": "2025-01-09T16:53:25.749809Z"
    },
    "papermill": {
     "duration": 0.017307,
     "end_time": "2025-01-09T17:21:56.027222",
     "exception": false,
     "start_time": "2025-01-09T17:21:56.009915",
     "status": "completed"
    },
    "tags": []
   },
   "source": [
    "# Catboost"
   ]
  },
  {
   "cell_type": "code",
   "execution_count": 57,
   "id": "2cf395d9",
   "metadata": {
    "execution": {
     "iopub.execute_input": "2025-01-09T17:21:56.063947Z",
     "iopub.status.busy": "2025-01-09T17:21:56.063472Z",
     "iopub.status.idle": "2025-01-09T17:26:18.527984Z",
     "shell.execute_reply": "2025-01-09T17:26:18.526611Z"
    },
    "papermill": {
     "duration": 262.504523,
     "end_time": "2025-01-09T17:26:18.549269",
     "exception": false,
     "start_time": "2025-01-09T17:21:56.044746",
     "status": "completed"
    },
    "tags": []
   },
   "outputs": [
    {
     "name": "stdout",
     "output_type": "stream",
     "text": [
      "Fitting 5 folds for each of 12 candidates, totalling 60 fits\n",
      "Best Parameters: {'iterations': 2000, 'learning_rate': 0.1, 'max_depth': 10, 'min_data_in_leaf': 1, 'random_seed': 42}\n",
      "CPU times: user 29.1 s, sys: 8.36 s, total: 37.4 s\n",
      "Wall time: 4min 22s\n"
     ]
    }
   ],
   "source": [
    "%%time\n",
    "from catboost import CatBoostClassifier\n",
    "ct_model = CatBoostClassifier(silent=True)\n",
    "\n",
    "param_grid = {\n",
    "    'iterations': [2000],\n",
    "    'learning_rate': [0.1, 0.2],\n",
    "    'min_data_in_leaf': [1, 3, 5],\n",
    "    'max_depth': [4, 10],\n",
    "    'random_seed' : [42]\n",
    "}\n",
    "grid_search = GridSearchCV(estimator=ct_model, param_grid=param_grid, scoring='accuracy', cv=5, verbose=1, n_jobs=-1)\n",
    "grid_search.fit(X_train, y_train)\n",
    "print(\"Best Parameters:\", grid_search.best_params_)\n"
   ]
  },
  {
   "cell_type": "code",
   "execution_count": 58,
   "id": "57fa5149",
   "metadata": {
    "execution": {
     "iopub.execute_input": "2025-01-09T17:26:18.589475Z",
     "iopub.status.busy": "2025-01-09T17:26:18.589086Z",
     "iopub.status.idle": "2025-01-09T17:26:18.594923Z",
     "shell.execute_reply": "2025-01-09T17:26:18.593521Z"
    },
    "papermill": {
     "duration": 0.028179,
     "end_time": "2025-01-09T17:26:18.597186",
     "exception": false,
     "start_time": "2025-01-09T17:26:18.569007",
     "status": "completed"
    },
    "tags": []
   },
   "outputs": [
    {
     "name": "stdout",
     "output_type": "stream",
     "text": [
      "Best Accuracy Score:\n",
      "0.7991529597163399\n"
     ]
    }
   ],
   "source": [
    "print(\"Best Accuracy Score:\")\n",
    "print(grid_search.best_score_)"
   ]
  },
  {
   "cell_type": "code",
   "execution_count": 59,
   "id": "d03dd82d",
   "metadata": {
    "execution": {
     "iopub.execute_input": "2025-01-09T17:26:18.636610Z",
     "iopub.status.busy": "2025-01-09T17:26:18.636247Z",
     "iopub.status.idle": "2025-01-09T17:26:18.650017Z",
     "shell.execute_reply": "2025-01-09T17:26:18.648868Z"
    },
    "papermill": {
     "duration": 0.035535,
     "end_time": "2025-01-09T17:26:18.652316",
     "exception": false,
     "start_time": "2025-01-09T17:26:18.616781",
     "status": "completed"
    },
    "tags": []
   },
   "outputs": [],
   "source": [
    "prediction = grid_search.predict(test_df)\n",
    "submission_df = pd.DataFrame({\n",
    "    'PassengerId': test_df.index,\n",
    "    'Survived': prediction\n",
    "})\n",
    "\n",
    "submission_df.to_csv('submission.csv', index=False)\n",
    "# 0.67224"
   ]
  },
  {
   "cell_type": "code",
   "execution_count": null,
   "id": "604db1a4",
   "metadata": {
    "papermill": {
     "duration": 0.019145,
     "end_time": "2025-01-09T17:26:18.691111",
     "exception": false,
     "start_time": "2025-01-09T17:26:18.671966",
     "status": "completed"
    },
    "tags": []
   },
   "outputs": [],
   "source": []
  }
 ],
 "metadata": {
  "kaggle": {
   "accelerator": "none",
   "dataSources": [
    {
     "databundleVersionId": 26502,
     "sourceId": 3136,
     "sourceType": "competition"
    }
   ],
   "dockerImageVersionId": 30822,
   "isGpuEnabled": false,
   "isInternetEnabled": false,
   "language": "python",
   "sourceType": "notebook"
  },
  "kernelspec": {
   "display_name": "Python 3",
   "language": "python",
   "name": "python3"
  },
  "language_info": {
   "codemirror_mode": {
    "name": "ipython",
    "version": 3
   },
   "file_extension": ".py",
   "mimetype": "text/x-python",
   "name": "python",
   "nbconvert_exporter": "python",
   "pygments_lexer": "ipython3",
   "version": "3.10.12"
  },
  "papermill": {
   "default_parameters": {},
   "duration": 727.933123,
   "end_time": "2025-01-09T17:26:19.740396",
   "environment_variables": {},
   "exception": null,
   "input_path": "__notebook__.ipynb",
   "output_path": "__notebook__.ipynb",
   "parameters": {},
   "start_time": "2025-01-09T17:14:11.807273",
   "version": "2.6.0"
  }
 },
 "nbformat": 4,
 "nbformat_minor": 5
}
